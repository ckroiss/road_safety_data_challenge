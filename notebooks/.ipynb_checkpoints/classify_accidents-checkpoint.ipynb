{
 "cells": [
  {
   "cell_type": "code",
   "execution_count": 1,
   "metadata": {},
   "outputs": [],
   "source": [
    "import pandas as pd\n",
    "import numpy as np\n",
    "import matplotlib.pyplot as plt\n",
    "\n",
    "from sklearn.model_selection import train_test_split\n",
    "from pathlib import Path\n",
    "import xgboost as xgb\n",
    "import matplotlib.pyplot as plt"
   ]
  },
  {
   "cell_type": "code",
   "execution_count": 2,
   "metadata": {},
   "outputs": [],
   "source": [
    "%matplotlib inline"
   ]
  },
  {
   "cell_type": "code",
   "execution_count": 3,
   "metadata": {},
   "outputs": [],
   "source": [
    "data_dir = Path(\"../data\")"
   ]
  },
  {
   "cell_type": "code",
   "execution_count": 4,
   "metadata": {},
   "outputs": [],
   "source": [
    "df_accidents_orig = pd.read_csv(data_dir / \"Acc.csv\", sep=\",\", dtype={\"Accident_Index\": \"object\"})"
   ]
  },
  {
   "cell_type": "code",
   "execution_count": 5,
   "metadata": {},
   "outputs": [],
   "source": [
    "df_vehicles_orig = pd.read_csv(data_dir / \"Veh.csv\", sep=\",\", dtype={\"Accident_Index\": \"object\"})"
   ]
  },
  {
   "cell_type": "code",
   "execution_count": 6,
   "metadata": {},
   "outputs": [],
   "source": [
    "df_casualties_orig = pd.read_csv(data_dir / \"Cas.csv\", sep=\",\", dtype={\"Accident_Index\": \"object\"})"
   ]
  },
  {
   "cell_type": "markdown",
   "metadata": {},
   "source": [
    "## prepare accidents data"
   ]
  },
  {
   "cell_type": "code",
   "execution_count": 7,
   "metadata": {},
   "outputs": [
    {
     "data": {
      "text/html": [
       "<div>\n",
       "<style scoped>\n",
       "    .dataframe tbody tr th:only-of-type {\n",
       "        vertical-align: middle;\n",
       "    }\n",
       "\n",
       "    .dataframe tbody tr th {\n",
       "        vertical-align: top;\n",
       "    }\n",
       "\n",
       "    .dataframe thead th {\n",
       "        text-align: right;\n",
       "    }\n",
       "</style>\n",
       "<table border=\"1\" class=\"dataframe\">\n",
       "  <thead>\n",
       "    <tr style=\"text-align: right;\">\n",
       "      <th></th>\n",
       "      <th>Accident_Index</th>\n",
       "      <th>Location_Easting_OSGR</th>\n",
       "      <th>Location_Northing_OSGR</th>\n",
       "      <th>Longitude</th>\n",
       "      <th>Latitude</th>\n",
       "      <th>Police_Force</th>\n",
       "      <th>Accident_Severity</th>\n",
       "      <th>Number_of_Vehicles</th>\n",
       "      <th>Number_of_Casualties</th>\n",
       "      <th>Date</th>\n",
       "      <th>...</th>\n",
       "      <th>Pedestrian_Crossing-Human_Control</th>\n",
       "      <th>Pedestrian_Crossing-Physical_Facilities</th>\n",
       "      <th>Light_Conditions</th>\n",
       "      <th>Weather_Conditions</th>\n",
       "      <th>Road_Surface_Conditions</th>\n",
       "      <th>Special_Conditions_at_Site</th>\n",
       "      <th>Carriageway_Hazards</th>\n",
       "      <th>Urban_or_Rural_Area</th>\n",
       "      <th>Did_Police_Officer_Attend_Scene_of_Accident</th>\n",
       "      <th>LSOA_of_Accident_Location</th>\n",
       "    </tr>\n",
       "  </thead>\n",
       "  <tbody>\n",
       "    <tr>\n",
       "      <th>0</th>\n",
       "      <td>2017010001708</td>\n",
       "      <td>532920.0</td>\n",
       "      <td>196330.0</td>\n",
       "      <td>-0.080107</td>\n",
       "      <td>51.650061</td>\n",
       "      <td>1</td>\n",
       "      <td>1</td>\n",
       "      <td>2</td>\n",
       "      <td>3</td>\n",
       "      <td>05/08/2017</td>\n",
       "      <td>...</td>\n",
       "      <td>0</td>\n",
       "      <td>0</td>\n",
       "      <td>4</td>\n",
       "      <td>1</td>\n",
       "      <td>1</td>\n",
       "      <td>0</td>\n",
       "      <td>0</td>\n",
       "      <td>1</td>\n",
       "      <td>1</td>\n",
       "      <td>E01001450</td>\n",
       "    </tr>\n",
       "    <tr>\n",
       "      <th>1</th>\n",
       "      <td>2017010009342</td>\n",
       "      <td>526790.0</td>\n",
       "      <td>181970.0</td>\n",
       "      <td>-0.173845</td>\n",
       "      <td>51.522425</td>\n",
       "      <td>1</td>\n",
       "      <td>3</td>\n",
       "      <td>2</td>\n",
       "      <td>1</td>\n",
       "      <td>01/01/2017</td>\n",
       "      <td>...</td>\n",
       "      <td>0</td>\n",
       "      <td>0</td>\n",
       "      <td>4</td>\n",
       "      <td>1</td>\n",
       "      <td>2</td>\n",
       "      <td>0</td>\n",
       "      <td>0</td>\n",
       "      <td>1</td>\n",
       "      <td>1</td>\n",
       "      <td>E01004702</td>\n",
       "    </tr>\n",
       "    <tr>\n",
       "      <th>2</th>\n",
       "      <td>2017010009344</td>\n",
       "      <td>535200.0</td>\n",
       "      <td>181260.0</td>\n",
       "      <td>-0.052969</td>\n",
       "      <td>51.514096</td>\n",
       "      <td>1</td>\n",
       "      <td>3</td>\n",
       "      <td>3</td>\n",
       "      <td>1</td>\n",
       "      <td>01/01/2017</td>\n",
       "      <td>...</td>\n",
       "      <td>0</td>\n",
       "      <td>0</td>\n",
       "      <td>4</td>\n",
       "      <td>1</td>\n",
       "      <td>1</td>\n",
       "      <td>0</td>\n",
       "      <td>0</td>\n",
       "      <td>1</td>\n",
       "      <td>1</td>\n",
       "      <td>E01004298</td>\n",
       "    </tr>\n",
       "    <tr>\n",
       "      <th>3</th>\n",
       "      <td>2017010009348</td>\n",
       "      <td>534340.0</td>\n",
       "      <td>193560.0</td>\n",
       "      <td>-0.060658</td>\n",
       "      <td>51.624832</td>\n",
       "      <td>1</td>\n",
       "      <td>3</td>\n",
       "      <td>2</td>\n",
       "      <td>1</td>\n",
       "      <td>01/01/2017</td>\n",
       "      <td>...</td>\n",
       "      <td>0</td>\n",
       "      <td>4</td>\n",
       "      <td>4</td>\n",
       "      <td>2</td>\n",
       "      <td>2</td>\n",
       "      <td>0</td>\n",
       "      <td>0</td>\n",
       "      <td>1</td>\n",
       "      <td>1</td>\n",
       "      <td>E01001429</td>\n",
       "    </tr>\n",
       "    <tr>\n",
       "      <th>4</th>\n",
       "      <td>2017010009350</td>\n",
       "      <td>533680.0</td>\n",
       "      <td>187820.0</td>\n",
       "      <td>-0.072372</td>\n",
       "      <td>51.573408</td>\n",
       "      <td>1</td>\n",
       "      <td>2</td>\n",
       "      <td>1</td>\n",
       "      <td>1</td>\n",
       "      <td>01/01/2017</td>\n",
       "      <td>...</td>\n",
       "      <td>0</td>\n",
       "      <td>5</td>\n",
       "      <td>4</td>\n",
       "      <td>1</td>\n",
       "      <td>2</td>\n",
       "      <td>0</td>\n",
       "      <td>0</td>\n",
       "      <td>1</td>\n",
       "      <td>1</td>\n",
       "      <td>E01001808</td>\n",
       "    </tr>\n",
       "  </tbody>\n",
       "</table>\n",
       "<p>5 rows × 32 columns</p>\n",
       "</div>"
      ],
      "text/plain": [
       "  Accident_Index  Location_Easting_OSGR  Location_Northing_OSGR  Longitude  \\\n",
       "0  2017010001708               532920.0                196330.0  -0.080107   \n",
       "1  2017010009342               526790.0                181970.0  -0.173845   \n",
       "2  2017010009344               535200.0                181260.0  -0.052969   \n",
       "3  2017010009348               534340.0                193560.0  -0.060658   \n",
       "4  2017010009350               533680.0                187820.0  -0.072372   \n",
       "\n",
       "    Latitude  Police_Force  Accident_Severity  Number_of_Vehicles  \\\n",
       "0  51.650061             1                  1                   2   \n",
       "1  51.522425             1                  3                   2   \n",
       "2  51.514096             1                  3                   3   \n",
       "3  51.624832             1                  3                   2   \n",
       "4  51.573408             1                  2                   1   \n",
       "\n",
       "   Number_of_Casualties        Date  ...  Pedestrian_Crossing-Human_Control  \\\n",
       "0                     3  05/08/2017  ...                                  0   \n",
       "1                     1  01/01/2017  ...                                  0   \n",
       "2                     1  01/01/2017  ...                                  0   \n",
       "3                     1  01/01/2017  ...                                  0   \n",
       "4                     1  01/01/2017  ...                                  0   \n",
       "\n",
       "  Pedestrian_Crossing-Physical_Facilities  Light_Conditions  \\\n",
       "0                                       0                 4   \n",
       "1                                       0                 4   \n",
       "2                                       0                 4   \n",
       "3                                       4                 4   \n",
       "4                                       5                 4   \n",
       "\n",
       "  Weather_Conditions  Road_Surface_Conditions  Special_Conditions_at_Site  \\\n",
       "0                  1                        1                           0   \n",
       "1                  1                        2                           0   \n",
       "2                  1                        1                           0   \n",
       "3                  2                        2                           0   \n",
       "4                  1                        2                           0   \n",
       "\n",
       "   Carriageway_Hazards  Urban_or_Rural_Area  \\\n",
       "0                    0                    1   \n",
       "1                    0                    1   \n",
       "2                    0                    1   \n",
       "3                    0                    1   \n",
       "4                    0                    1   \n",
       "\n",
       "   Did_Police_Officer_Attend_Scene_of_Accident  LSOA_of_Accident_Location  \n",
       "0                                            1                  E01001450  \n",
       "1                                            1                  E01004702  \n",
       "2                                            1                  E01004298  \n",
       "3                                            1                  E01001429  \n",
       "4                                            1                  E01001808  \n",
       "\n",
       "[5 rows x 32 columns]"
      ]
     },
     "execution_count": 7,
     "metadata": {},
     "output_type": "execute_result"
    }
   ],
   "source": [
    "df_accidents_orig.head()"
   ]
  },
  {
   "cell_type": "code",
   "execution_count": 152,
   "metadata": {},
   "outputs": [],
   "source": [
    "df_accidents = df_accidents_orig.replace(to_replace=-1, value=np.nan)"
   ]
  },
  {
   "cell_type": "markdown",
   "metadata": {},
   "source": [
    "### analysis"
   ]
  },
  {
   "cell_type": "code",
   "execution_count": 153,
   "metadata": {},
   "outputs": [
    {
     "data": {
      "text/plain": [
       "Accident_Index                                     0\n",
       "Location_Easting_OSGR                             19\n",
       "Location_Northing_OSGR                            19\n",
       "Longitude                                         29\n",
       "Latitude                                          29\n",
       "Police_Force                                       0\n",
       "Accident_Severity                                  0\n",
       "Number_of_Vehicles                                 0\n",
       "Number_of_Casualties                               0\n",
       "Date                                               0\n",
       "Day_of_Week                                        0\n",
       "Time                                               3\n",
       "Local_Authority_(District)                         0\n",
       "Local_Authority_(Highway)                          0\n",
       "1st_Road_Class                                     0\n",
       "1st_Road_Number                                    0\n",
       "Road_Type                                          0\n",
       "Speed_limit                                        0\n",
       "Junction_Detail                                  609\n",
       "Junction_Control                               56296\n",
       "2nd_Road_Class                                 54412\n",
       "2nd_Road_Number                                  153\n",
       "Pedestrian_Crossing-Human_Control               2574\n",
       "Pedestrian_Crossing-Physical_Facilities         2765\n",
       "Light_Conditions                                   1\n",
       "Weather_Conditions                                 1\n",
       "Road_Surface_Conditions                         1937\n",
       "Special_Conditions_at_Site                      2206\n",
       "Carriageway_Hazards                             2073\n",
       "Urban_or_Rural_Area                                0\n",
       "Did_Police_Officer_Attend_Scene_of_Accident        0\n",
       "LSOA_of_Accident_Location                       7131\n",
       "dtype: int64"
      ]
     },
     "execution_count": 153,
     "metadata": {},
     "output_type": "execute_result"
    }
   ],
   "source": [
    "df_accidents.isna().sum()"
   ]
  },
  {
   "cell_type": "code",
   "execution_count": 154,
   "metadata": {},
   "outputs": [
    {
     "data": {
      "text/plain": [
       "Accident_Index                                 129982\n",
       "Location_Easting_OSGR                           89264\n",
       "Location_Northing_OSGR                          91208\n",
       "Longitude                                      124618\n",
       "Latitude                                       123291\n",
       "Police_Force                                       51\n",
       "Accident_Severity                                   3\n",
       "Number_of_Vehicles                                 15\n",
       "Number_of_Casualties                               20\n",
       "Date                                              365\n",
       "Day_of_Week                                         7\n",
       "Time                                             1438\n",
       "Local_Authority_(District)                        380\n",
       "Local_Authority_(Highway)                         207\n",
       "1st_Road_Class                                      6\n",
       "1st_Road_Number                                  3763\n",
       "Road_Type                                           6\n",
       "Speed_limit                                         6\n",
       "Junction_Detail                                     9\n",
       "Junction_Control                                    4\n",
       "2nd_Road_Class                                      6\n",
       "2nd_Road_Number                                  3280\n",
       "Pedestrian_Crossing-Human_Control                   3\n",
       "Pedestrian_Crossing-Physical_Facilities             6\n",
       "Light_Conditions                                    5\n",
       "Weather_Conditions                                  9\n",
       "Road_Surface_Conditions                             5\n",
       "Special_Conditions_at_Site                          8\n",
       "Carriageway_Hazards                                 6\n",
       "Urban_or_Rural_Area                                 3\n",
       "Did_Police_Officer_Attend_Scene_of_Accident         3\n",
       "LSOA_of_Accident_Location                       28285\n",
       "dtype: int64"
      ]
     },
     "execution_count": 154,
     "metadata": {},
     "output_type": "execute_result"
    }
   ],
   "source": [
    "df_accidents.nunique()"
   ]
  },
  {
   "cell_type": "markdown",
   "metadata": {},
   "source": [
    "### drop some columns"
   ]
  },
  {
   "cell_type": "code",
   "execution_count": 155,
   "metadata": {},
   "outputs": [],
   "source": [
    "df_accidents = df_accidents.drop(columns=[\"LSOA_of_Accident_Location\", \"Location_Easting_OSGR\", \"Location_Northing_OSGR\",\n",
    "                                         \"Local_Authority_(District)\", \"Local_Authority_(Highway)\", \"1st_Road_Number\",\n",
    "                                         \"2nd_Road_Number\"])"
   ]
  },
  {
   "cell_type": "code",
   "execution_count": 156,
   "metadata": {},
   "outputs": [],
   "source": [
    "df_accidents = df_accidents.drop(columns=[\"Police_Force\"])"
   ]
  },
  {
   "cell_type": "markdown",
   "metadata": {},
   "source": [
    "### transform date and time information"
   ]
  },
  {
   "cell_type": "code",
   "execution_count": 157,
   "metadata": {},
   "outputs": [
    {
     "data": {
      "text/plain": [
       "0    05/08/2017\n",
       "1    01/01/2017\n",
       "2    01/01/2017\n",
       "3    01/01/2017\n",
       "4    01/01/2017\n",
       "Name: Date, dtype: object"
      ]
     },
     "execution_count": 157,
     "metadata": {},
     "output_type": "execute_result"
    }
   ],
   "source": [
    "df_accidents[\"Date\"].head()"
   ]
  },
  {
   "cell_type": "code",
   "execution_count": 158,
   "metadata": {},
   "outputs": [],
   "source": [
    "df_accidents[\"Date\"] = pd.to_datetime(df_accidents[\"Date\"], format=\"%d/%m/%Y\")"
   ]
  },
  {
   "cell_type": "code",
   "execution_count": 159,
   "metadata": {},
   "outputs": [],
   "source": [
    "df_accidents[\"Week\"] = df_accidents.Date.dt.week\n",
    "df_accidents[\"Month\"] = df_accidents.Date.dt.month"
   ]
  },
  {
   "cell_type": "code",
   "execution_count": 160,
   "metadata": {},
   "outputs": [],
   "source": [
    "def get_hour_safe(s):\n",
    "    if s is None:\n",
    "        return None\n",
    "    elif isinstance(s, str):\n",
    "        return int(s.split(\":\")[0])\n",
    "    else:\n",
    "        return None"
   ]
  },
  {
   "cell_type": "code",
   "execution_count": 161,
   "metadata": {},
   "outputs": [],
   "source": [
    "df_accidents[\"Hour\"] = df_accidents.Time.apply(lambda s: get_hour_safe(s))"
   ]
  },
  {
   "cell_type": "code",
   "execution_count": 162,
   "metadata": {},
   "outputs": [],
   "source": [
    "df_accidents = df_accidents.drop(columns=[\"Date\", \"Time\"])"
   ]
  },
  {
   "cell_type": "markdown",
   "metadata": {},
   "source": [
    "### refine label to binary (2 and 3 bot mean \"no\")"
   ]
  },
  {
   "cell_type": "code",
   "execution_count": 164,
   "metadata": {},
   "outputs": [],
   "source": [
    "df_accidents[\"Did_Police_Officer_Attend_Scene_of_Accident\"] = \\\n",
    "    df_accidents[\"Did_Police_Officer_Attend_Scene_of_Accident\"].replace(to_replace=2, value=0)\n",
    "df_accidents[\"Did_Police_Officer_Attend_Scene_of_Accident\"] = \\\n",
    "    df_accidents[\"Did_Police_Officer_Attend_Scene_of_Accident\"].replace(to_replace=3, value=0)"
   ]
  },
  {
   "cell_type": "markdown",
   "metadata": {},
   "source": [
    "### encoding"
   ]
  },
  {
   "cell_type": "code",
   "execution_count": 166,
   "metadata": {},
   "outputs": [
    {
     "data": {
      "text/plain": [
       "Index(['Accident_Index', 'Longitude', 'Latitude', 'Accident_Severity',\n",
       "       'Number_of_Vehicles', 'Number_of_Casualties', 'Day_of_Week',\n",
       "       '1st_Road_Class', 'Road_Type', 'Speed_limit', 'Junction_Detail',\n",
       "       'Junction_Control', '2nd_Road_Class',\n",
       "       'Pedestrian_Crossing-Human_Control',\n",
       "       'Pedestrian_Crossing-Physical_Facilities', 'Light_Conditions',\n",
       "       'Weather_Conditions', 'Road_Surface_Conditions',\n",
       "       'Special_Conditions_at_Site', 'Carriageway_Hazards',\n",
       "       'Urban_or_Rural_Area', 'Did_Police_Officer_Attend_Scene_of_Accident',\n",
       "       'Week', 'Month', 'Hour'],\n",
       "      dtype='object')"
      ]
     },
     "execution_count": 166,
     "metadata": {},
     "output_type": "execute_result"
    }
   ],
   "source": [
    "df_accidents.columns"
   ]
  },
  {
   "cell_type": "code",
   "execution_count": 167,
   "metadata": {},
   "outputs": [],
   "source": [
    "cat_columns = set(df_accidents.columns) - {\"Accident_Index\", \"Longitude\", \"Latitude\", \"Number_of_Vehicles\", \"Number_of_Casualties\", \n",
    "                                         \"Week\", \"Month\", \"Hour\", \"Speed_limit\", \"Did_Police_Officer_Attend_Scene_of_Accident\"}"
   ]
  },
  {
   "cell_type": "code",
   "execution_count": 168,
   "metadata": {},
   "outputs": [
    {
     "data": {
      "text/plain": [
       "{'1st_Road_Class',\n",
       " '2nd_Road_Class',\n",
       " 'Accident_Severity',\n",
       " 'Carriageway_Hazards',\n",
       " 'Day_of_Week',\n",
       " 'Junction_Control',\n",
       " 'Junction_Detail',\n",
       " 'Light_Conditions',\n",
       " 'Pedestrian_Crossing-Human_Control',\n",
       " 'Pedestrian_Crossing-Physical_Facilities',\n",
       " 'Road_Surface_Conditions',\n",
       " 'Road_Type',\n",
       " 'Special_Conditions_at_Site',\n",
       " 'Urban_or_Rural_Area',\n",
       " 'Weather_Conditions'}"
      ]
     },
     "execution_count": 168,
     "metadata": {},
     "output_type": "execute_result"
    }
   ],
   "source": [
    "cat_columns"
   ]
  },
  {
   "cell_type": "code",
   "execution_count": 169,
   "metadata": {},
   "outputs": [],
   "source": [
    "df_accidents_enc = pd.get_dummies(df_accidents, columns=cat_columns)"
   ]
  },
  {
   "cell_type": "markdown",
   "metadata": {},
   "source": [
    "## prepare vehicle data"
   ]
  },
  {
   "cell_type": "code",
   "execution_count": 25,
   "metadata": {},
   "outputs": [],
   "source": [
    "df_vehicles = df_vehicles_orig.replace(to_replace=-1, value=np.nan)"
   ]
  },
  {
   "cell_type": "code",
   "execution_count": 26,
   "metadata": {},
   "outputs": [
    {
     "data": {
      "text/plain": [
       "Accident_Index                          0\n",
       "Vehicle_Reference                       0\n",
       "Vehicle_Type                          293\n",
       "Towing_and_Articulation              4449\n",
       "Vehicle_Manoeuvre                    3957\n",
       "Vehicle_Location-Restricted_Lane     3781\n",
       "Junction_Location                    3290\n",
       "Skidding_and_Overturning             4711\n",
       "Hit_Object_in_Carriageway            4594\n",
       "Vehicle_Leaving_Carriageway          4108\n",
       "Hit_Object_off_Carriageway           3288\n",
       "1st_Point_of_Impact                  3961\n",
       "Was_Vehicle_Left_Hand_Drive?         6835\n",
       "Journey_Purpose_of_Driver              19\n",
       "Sex_of_Driver                           3\n",
       "Age_of_Driver                       27774\n",
       "Age_Band_of_Driver                  27774\n",
       "Engine_Capacity_(CC)                53381\n",
       "Propulsion_Code                     52930\n",
       "Age_of_Vehicle                      61634\n",
       "Driver_IMD_Decile                   85780\n",
       "Driver_Home_Area_Type               68860\n",
       "Vehicle_IMD_Decile                  85780\n",
       "dtype: int64"
      ]
     },
     "execution_count": 26,
     "metadata": {},
     "output_type": "execute_result"
    }
   ],
   "source": [
    "df_vehicles.isna().sum()"
   ]
  },
  {
   "cell_type": "code",
   "execution_count": 27,
   "metadata": {},
   "outputs": [
    {
     "data": {
      "text/plain": [
       "Accident_Index                      129982\n",
       "Vehicle_Reference                       24\n",
       "Vehicle_Type                            20\n",
       "Towing_and_Articulation                  6\n",
       "Vehicle_Manoeuvre                       18\n",
       "Vehicle_Location-Restricted_Lane        10\n",
       "Junction_Location                        9\n",
       "Skidding_and_Overturning                 6\n",
       "Hit_Object_in_Carriageway               12\n",
       "Vehicle_Leaving_Carriageway              9\n",
       "Hit_Object_off_Carriageway              12\n",
       "1st_Point_of_Impact                      5\n",
       "Was_Vehicle_Left_Hand_Drive?             2\n",
       "Journey_Purpose_of_Driver                6\n",
       "Sex_of_Driver                            3\n",
       "Age_of_Driver                           99\n",
       "Age_Band_of_Driver                      11\n",
       "Engine_Capacity_(CC)                  1102\n",
       "Propulsion_Code                          9\n",
       "Age_of_Vehicle                          70\n",
       "Driver_IMD_Decile                       10\n",
       "Driver_Home_Area_Type                    3\n",
       "Vehicle_IMD_Decile                      10\n",
       "dtype: int64"
      ]
     },
     "execution_count": 27,
     "metadata": {},
     "output_type": "execute_result"
    }
   ],
   "source": [
    "df_vehicles.nunique()"
   ]
  },
  {
   "cell_type": "code",
   "execution_count": 107,
   "metadata": {},
   "outputs": [],
   "source": [
    "def prepare_related_dataset(df, cat_columns, numeric_columns):\n",
    "    df_enc = pd.get_dummies(df, columns=cat_columns)\n",
    "    one_hot_cols = [c2 for c2 in df_enc.columns\n",
    "                    for c1 in cat_columns\n",
    "                    if c2.startswith(c1)]\n",
    "    agg_rules = {\n",
    "        **{col: [\"median\", \"min\", \"max\"] for col in numeric_columns},\n",
    "        **{col: \"max\" for col in one_hot_cols}}\n",
    "    df_enc_grouped = df_enc.groupby(\"Accident_Index\", as_index=False).agg(agg_rules)\n",
    "    # flatten multi-level columns\n",
    "    df_enc_grouped.columns = df_enc_grouped.columns.map('_'.join)\n",
    "    df_enc_grouped = df_enc_grouped.rename(columns={\"Accident_Index_\": \"Accident_Index\"})\n",
    "    return df_enc_grouped"
   ]
  },
  {
   "cell_type": "code",
   "execution_count": 108,
   "metadata": {},
   "outputs": [],
   "source": [
    "cat_columns = set(df_vehicles.columns) - {\"Accident_Index\", \"Vehicle_Reference\", \"Age_of_Driver\", \"Engine_Capacity_(CC)\", \"Age_of_Vehicle\",\n",
    "                                         \"Driver_IMD_Decile\", \"Vehicle_IMD_Decile\"}"
   ]
  },
  {
   "cell_type": "code",
   "execution_count": 109,
   "metadata": {},
   "outputs": [],
   "source": [
    "numeric_cols = [\"Age_of_Driver\", \"Engine_Capacity_(CC)\", \"Age_of_Vehicle\",\n",
    "                                         \"Driver_IMD_Decile\", \"Vehicle_IMD_Decile\"]"
   ]
  },
  {
   "cell_type": "code",
   "execution_count": 110,
   "metadata": {},
   "outputs": [],
   "source": [
    "df_vehicles_enc_grouped = prepare_related_dataset(df_vehicles, cat_columns, numeric_cols)"
   ]
  },
  {
   "cell_type": "code",
   "execution_count": 111,
   "metadata": {},
   "outputs": [
    {
     "data": {
      "text/html": [
       "<div>\n",
       "<style scoped>\n",
       "    .dataframe tbody tr th:only-of-type {\n",
       "        vertical-align: middle;\n",
       "    }\n",
       "\n",
       "    .dataframe tbody tr th {\n",
       "        vertical-align: top;\n",
       "    }\n",
       "\n",
       "    .dataframe thead th {\n",
       "        text-align: right;\n",
       "    }\n",
       "</style>\n",
       "<table border=\"1\" class=\"dataframe\">\n",
       "  <thead>\n",
       "    <tr style=\"text-align: right;\">\n",
       "      <th></th>\n",
       "      <th>Accident_Index</th>\n",
       "      <th>Age_of_Driver_median</th>\n",
       "      <th>Age_of_Driver_min</th>\n",
       "      <th>Age_of_Driver_max</th>\n",
       "      <th>Engine_Capacity_(CC)_median</th>\n",
       "      <th>Engine_Capacity_(CC)_min</th>\n",
       "      <th>Engine_Capacity_(CC)_max</th>\n",
       "      <th>Age_of_Vehicle_median</th>\n",
       "      <th>Age_of_Vehicle_min</th>\n",
       "      <th>Age_of_Vehicle_max</th>\n",
       "      <th>...</th>\n",
       "      <th>Vehicle_Type_17.0_max</th>\n",
       "      <th>Vehicle_Type_18.0_max</th>\n",
       "      <th>Vehicle_Type_19.0_max</th>\n",
       "      <th>Vehicle_Type_20.0_max</th>\n",
       "      <th>Vehicle_Type_21.0_max</th>\n",
       "      <th>Vehicle_Type_22.0_max</th>\n",
       "      <th>Vehicle_Type_23.0_max</th>\n",
       "      <th>Vehicle_Type_90.0_max</th>\n",
       "      <th>Vehicle_Type_97.0_max</th>\n",
       "      <th>Vehicle_Type_98.0_max</th>\n",
       "    </tr>\n",
       "  </thead>\n",
       "  <tbody>\n",
       "    <tr>\n",
       "      <th>0</th>\n",
       "      <td>2017010001708</td>\n",
       "      <td>21.5</td>\n",
       "      <td>19.0</td>\n",
       "      <td>24.0</td>\n",
       "      <td>1997.0</td>\n",
       "      <td>1997.0</td>\n",
       "      <td>1997.0</td>\n",
       "      <td>1.0</td>\n",
       "      <td>1.0</td>\n",
       "      <td>1.0</td>\n",
       "      <td>...</td>\n",
       "      <td>0</td>\n",
       "      <td>0</td>\n",
       "      <td>0</td>\n",
       "      <td>0</td>\n",
       "      <td>0</td>\n",
       "      <td>0</td>\n",
       "      <td>0</td>\n",
       "      <td>0</td>\n",
       "      <td>0</td>\n",
       "      <td>0</td>\n",
       "    </tr>\n",
       "    <tr>\n",
       "      <th>1</th>\n",
       "      <td>2017010009342</td>\n",
       "      <td>36.5</td>\n",
       "      <td>33.0</td>\n",
       "      <td>40.0</td>\n",
       "      <td>2000.5</td>\n",
       "      <td>1797.0</td>\n",
       "      <td>2204.0</td>\n",
       "      <td>10.0</td>\n",
       "      <td>8.0</td>\n",
       "      <td>12.0</td>\n",
       "      <td>...</td>\n",
       "      <td>0</td>\n",
       "      <td>0</td>\n",
       "      <td>0</td>\n",
       "      <td>0</td>\n",
       "      <td>0</td>\n",
       "      <td>0</td>\n",
       "      <td>0</td>\n",
       "      <td>0</td>\n",
       "      <td>0</td>\n",
       "      <td>0</td>\n",
       "    </tr>\n",
       "    <tr>\n",
       "      <th>2</th>\n",
       "      <td>2017010009344</td>\n",
       "      <td>33.0</td>\n",
       "      <td>31.0</td>\n",
       "      <td>35.0</td>\n",
       "      <td>1597.5</td>\n",
       "      <td>1299.0</td>\n",
       "      <td>1896.0</td>\n",
       "      <td>11.5</td>\n",
       "      <td>9.0</td>\n",
       "      <td>14.0</td>\n",
       "      <td>...</td>\n",
       "      <td>0</td>\n",
       "      <td>0</td>\n",
       "      <td>0</td>\n",
       "      <td>0</td>\n",
       "      <td>0</td>\n",
       "      <td>0</td>\n",
       "      <td>0</td>\n",
       "      <td>0</td>\n",
       "      <td>0</td>\n",
       "      <td>0</td>\n",
       "    </tr>\n",
       "    <tr>\n",
       "      <th>3</th>\n",
       "      <td>2017010009348</td>\n",
       "      <td>33.0</td>\n",
       "      <td>29.0</td>\n",
       "      <td>37.0</td>\n",
       "      <td>1598.0</td>\n",
       "      <td>1399.0</td>\n",
       "      <td>1797.0</td>\n",
       "      <td>7.5</td>\n",
       "      <td>6.0</td>\n",
       "      <td>9.0</td>\n",
       "      <td>...</td>\n",
       "      <td>0</td>\n",
       "      <td>0</td>\n",
       "      <td>0</td>\n",
       "      <td>0</td>\n",
       "      <td>0</td>\n",
       "      <td>0</td>\n",
       "      <td>0</td>\n",
       "      <td>0</td>\n",
       "      <td>0</td>\n",
       "      <td>0</td>\n",
       "    </tr>\n",
       "    <tr>\n",
       "      <th>4</th>\n",
       "      <td>2017010009350</td>\n",
       "      <td>78.0</td>\n",
       "      <td>78.0</td>\n",
       "      <td>78.0</td>\n",
       "      <td>1988.0</td>\n",
       "      <td>1988.0</td>\n",
       "      <td>1988.0</td>\n",
       "      <td>14.0</td>\n",
       "      <td>14.0</td>\n",
       "      <td>14.0</td>\n",
       "      <td>...</td>\n",
       "      <td>0</td>\n",
       "      <td>0</td>\n",
       "      <td>0</td>\n",
       "      <td>0</td>\n",
       "      <td>0</td>\n",
       "      <td>0</td>\n",
       "      <td>0</td>\n",
       "      <td>0</td>\n",
       "      <td>0</td>\n",
       "      <td>0</td>\n",
       "    </tr>\n",
       "  </tbody>\n",
       "</table>\n",
       "<p>5 rows × 157 columns</p>\n",
       "</div>"
      ],
      "text/plain": [
       "  Accident_Index  Age_of_Driver_median  Age_of_Driver_min  Age_of_Driver_max  \\\n",
       "0  2017010001708                  21.5               19.0               24.0   \n",
       "1  2017010009342                  36.5               33.0               40.0   \n",
       "2  2017010009344                  33.0               31.0               35.0   \n",
       "3  2017010009348                  33.0               29.0               37.0   \n",
       "4  2017010009350                  78.0               78.0               78.0   \n",
       "\n",
       "   Engine_Capacity_(CC)_median  Engine_Capacity_(CC)_min  \\\n",
       "0                       1997.0                    1997.0   \n",
       "1                       2000.5                    1797.0   \n",
       "2                       1597.5                    1299.0   \n",
       "3                       1598.0                    1399.0   \n",
       "4                       1988.0                    1988.0   \n",
       "\n",
       "   Engine_Capacity_(CC)_max  Age_of_Vehicle_median  Age_of_Vehicle_min  \\\n",
       "0                    1997.0                    1.0                 1.0   \n",
       "1                    2204.0                   10.0                 8.0   \n",
       "2                    1896.0                   11.5                 9.0   \n",
       "3                    1797.0                    7.5                 6.0   \n",
       "4                    1988.0                   14.0                14.0   \n",
       "\n",
       "   Age_of_Vehicle_max  ...  Vehicle_Type_17.0_max  Vehicle_Type_18.0_max  \\\n",
       "0                 1.0  ...                      0                      0   \n",
       "1                12.0  ...                      0                      0   \n",
       "2                14.0  ...                      0                      0   \n",
       "3                 9.0  ...                      0                      0   \n",
       "4                14.0  ...                      0                      0   \n",
       "\n",
       "   Vehicle_Type_19.0_max  Vehicle_Type_20.0_max  Vehicle_Type_21.0_max  \\\n",
       "0                      0                      0                      0   \n",
       "1                      0                      0                      0   \n",
       "2                      0                      0                      0   \n",
       "3                      0                      0                      0   \n",
       "4                      0                      0                      0   \n",
       "\n",
       "   Vehicle_Type_22.0_max  Vehicle_Type_23.0_max  Vehicle_Type_90.0_max  \\\n",
       "0                      0                      0                      0   \n",
       "1                      0                      0                      0   \n",
       "2                      0                      0                      0   \n",
       "3                      0                      0                      0   \n",
       "4                      0                      0                      0   \n",
       "\n",
       "   Vehicle_Type_97.0_max  Vehicle_Type_98.0_max  \n",
       "0                      0                      0  \n",
       "1                      0                      0  \n",
       "2                      0                      0  \n",
       "3                      0                      0  \n",
       "4                      0                      0  \n",
       "\n",
       "[5 rows x 157 columns]"
      ]
     },
     "execution_count": 111,
     "metadata": {},
     "output_type": "execute_result"
    }
   ],
   "source": [
    "df_vehicles_enc_grouped.head()"
   ]
  },
  {
   "cell_type": "code",
   "execution_count": 112,
   "metadata": {},
   "outputs": [
    {
     "data": {
      "text/plain": [
       "(129982, 157)"
      ]
     },
     "execution_count": 112,
     "metadata": {},
     "output_type": "execute_result"
    }
   ],
   "source": [
    "df_vehicles_enc_grouped.shape"
   ]
  },
  {
   "cell_type": "markdown",
   "metadata": {},
   "source": [
    "## prepare casualty data"
   ]
  },
  {
   "cell_type": "code",
   "execution_count": 113,
   "metadata": {},
   "outputs": [],
   "source": [
    "df_casualties = df_casualties_orig.replace(to_replace=-1, value=np.nan)"
   ]
  },
  {
   "cell_type": "code",
   "execution_count": 114,
   "metadata": {},
   "outputs": [
    {
     "data": {
      "text/plain": [
       "Accident_Index                            0\n",
       "Vehicle_Reference                         0\n",
       "Casualty_Reference                        0\n",
       "Casualty_Class                            0\n",
       "Sex_of_Casualty                          27\n",
       "Age_of_Casualty                        2214\n",
       "Age_Band_of_Casualty                   2214\n",
       "Casualty_Severity                         0\n",
       "Pedestrian_Location                       0\n",
       "Pedestrian_Movement                       0\n",
       "Car_Passenger                           494\n",
       "Bus_or_Coach_Passenger                   52\n",
       "Pedestrian_Road_Maintenance_Worker       87\n",
       "Casualty_Type                             3\n",
       "Casualty_Home_Area_Type               36844\n",
       "Casualty_IMD_Decile                   50183\n",
       "dtype: int64"
      ]
     },
     "execution_count": 114,
     "metadata": {},
     "output_type": "execute_result"
    }
   ],
   "source": [
    "df_casualties.isna().sum()"
   ]
  },
  {
   "cell_type": "code",
   "execution_count": 115,
   "metadata": {},
   "outputs": [
    {
     "data": {
      "text/plain": [
       "Accident_Index                        129982\n",
       "Vehicle_Reference                         15\n",
       "Casualty_Reference                        43\n",
       "Casualty_Class                             3\n",
       "Sex_of_Casualty                            2\n",
       "Age_of_Casualty                          101\n",
       "Age_Band_of_Casualty                      11\n",
       "Casualty_Severity                          3\n",
       "Pedestrian_Location                       11\n",
       "Pedestrian_Movement                       10\n",
       "Car_Passenger                              3\n",
       "Bus_or_Coach_Passenger                     5\n",
       "Pedestrian_Road_Maintenance_Worker         3\n",
       "Casualty_Type                             21\n",
       "Casualty_Home_Area_Type                    3\n",
       "Casualty_IMD_Decile                       10\n",
       "dtype: int64"
      ]
     },
     "execution_count": 115,
     "metadata": {},
     "output_type": "execute_result"
    }
   ],
   "source": [
    "df_casualties.nunique()"
   ]
  },
  {
   "cell_type": "code",
   "execution_count": 116,
   "metadata": {},
   "outputs": [],
   "source": [
    "cat_columns = set(df_casualties.columns) - {\"Accident_Index\", \"Vehicle_Reference\", \"Casualty_Reference\", \n",
    "                                           \"Age_of_Casualty\", \"Casualty_IMD_Decile\"}"
   ]
  },
  {
   "cell_type": "code",
   "execution_count": 117,
   "metadata": {},
   "outputs": [],
   "source": [
    "numeric_cols = {\"Age_of_Casualty\"}"
   ]
  },
  {
   "cell_type": "code",
   "execution_count": 118,
   "metadata": {},
   "outputs": [],
   "source": [
    "df_casualties_enc_grouped = prepare_related_dataset(df_casualties, cat_columns, numeric_cols)"
   ]
  },
  {
   "cell_type": "code",
   "execution_count": 119,
   "metadata": {},
   "outputs": [
    {
     "data": {
      "text/html": [
       "<div>\n",
       "<style scoped>\n",
       "    .dataframe tbody tr th:only-of-type {\n",
       "        vertical-align: middle;\n",
       "    }\n",
       "\n",
       "    .dataframe tbody tr th {\n",
       "        vertical-align: top;\n",
       "    }\n",
       "\n",
       "    .dataframe thead th {\n",
       "        text-align: right;\n",
       "    }\n",
       "</style>\n",
       "<table border=\"1\" class=\"dataframe\">\n",
       "  <thead>\n",
       "    <tr style=\"text-align: right;\">\n",
       "      <th></th>\n",
       "      <th>Accident_Index</th>\n",
       "      <th>Age_of_Casualty_median</th>\n",
       "      <th>Age_of_Casualty_min</th>\n",
       "      <th>Age_of_Casualty_max</th>\n",
       "      <th>Casualty_Home_Area_Type_1.0_max</th>\n",
       "      <th>Casualty_Home_Area_Type_2.0_max</th>\n",
       "      <th>Casualty_Home_Area_Type_3.0_max</th>\n",
       "      <th>Pedestrian_Location_0_max</th>\n",
       "      <th>Pedestrian_Location_1_max</th>\n",
       "      <th>Pedestrian_Location_2_max</th>\n",
       "      <th>...</th>\n",
       "      <th>Age_Band_of_Casualty_5.0_max</th>\n",
       "      <th>Age_Band_of_Casualty_6.0_max</th>\n",
       "      <th>Age_Band_of_Casualty_7.0_max</th>\n",
       "      <th>Age_Band_of_Casualty_8.0_max</th>\n",
       "      <th>Age_Band_of_Casualty_9.0_max</th>\n",
       "      <th>Age_Band_of_Casualty_10.0_max</th>\n",
       "      <th>Age_Band_of_Casualty_11.0_max</th>\n",
       "      <th>Casualty_Severity_1_max</th>\n",
       "      <th>Casualty_Severity_2_max</th>\n",
       "      <th>Casualty_Severity_3_max</th>\n",
       "    </tr>\n",
       "  </thead>\n",
       "  <tbody>\n",
       "    <tr>\n",
       "      <th>0</th>\n",
       "      <td>2017010001708</td>\n",
       "      <td>18.0</td>\n",
       "      <td>18.0</td>\n",
       "      <td>19.0</td>\n",
       "      <td>1</td>\n",
       "      <td>0</td>\n",
       "      <td>0</td>\n",
       "      <td>1</td>\n",
       "      <td>0</td>\n",
       "      <td>0</td>\n",
       "      <td>...</td>\n",
       "      <td>0</td>\n",
       "      <td>0</td>\n",
       "      <td>0</td>\n",
       "      <td>0</td>\n",
       "      <td>0</td>\n",
       "      <td>0</td>\n",
       "      <td>0</td>\n",
       "      <td>1</td>\n",
       "      <td>1</td>\n",
       "      <td>1</td>\n",
       "    </tr>\n",
       "    <tr>\n",
       "      <th>1</th>\n",
       "      <td>2017010009342</td>\n",
       "      <td>33.0</td>\n",
       "      <td>33.0</td>\n",
       "      <td>33.0</td>\n",
       "      <td>1</td>\n",
       "      <td>0</td>\n",
       "      <td>0</td>\n",
       "      <td>1</td>\n",
       "      <td>0</td>\n",
       "      <td>0</td>\n",
       "      <td>...</td>\n",
       "      <td>0</td>\n",
       "      <td>1</td>\n",
       "      <td>0</td>\n",
       "      <td>0</td>\n",
       "      <td>0</td>\n",
       "      <td>0</td>\n",
       "      <td>0</td>\n",
       "      <td>0</td>\n",
       "      <td>0</td>\n",
       "      <td>1</td>\n",
       "    </tr>\n",
       "    <tr>\n",
       "      <th>2</th>\n",
       "      <td>2017010009344</td>\n",
       "      <td>31.0</td>\n",
       "      <td>31.0</td>\n",
       "      <td>31.0</td>\n",
       "      <td>1</td>\n",
       "      <td>0</td>\n",
       "      <td>0</td>\n",
       "      <td>1</td>\n",
       "      <td>0</td>\n",
       "      <td>0</td>\n",
       "      <td>...</td>\n",
       "      <td>0</td>\n",
       "      <td>1</td>\n",
       "      <td>0</td>\n",
       "      <td>0</td>\n",
       "      <td>0</td>\n",
       "      <td>0</td>\n",
       "      <td>0</td>\n",
       "      <td>0</td>\n",
       "      <td>0</td>\n",
       "      <td>1</td>\n",
       "    </tr>\n",
       "    <tr>\n",
       "      <th>3</th>\n",
       "      <td>2017010009348</td>\n",
       "      <td>3.0</td>\n",
       "      <td>3.0</td>\n",
       "      <td>3.0</td>\n",
       "      <td>1</td>\n",
       "      <td>0</td>\n",
       "      <td>0</td>\n",
       "      <td>1</td>\n",
       "      <td>0</td>\n",
       "      <td>0</td>\n",
       "      <td>...</td>\n",
       "      <td>0</td>\n",
       "      <td>0</td>\n",
       "      <td>0</td>\n",
       "      <td>0</td>\n",
       "      <td>0</td>\n",
       "      <td>0</td>\n",
       "      <td>0</td>\n",
       "      <td>0</td>\n",
       "      <td>0</td>\n",
       "      <td>1</td>\n",
       "    </tr>\n",
       "    <tr>\n",
       "      <th>4</th>\n",
       "      <td>2017010009350</td>\n",
       "      <td>45.0</td>\n",
       "      <td>45.0</td>\n",
       "      <td>45.0</td>\n",
       "      <td>0</td>\n",
       "      <td>0</td>\n",
       "      <td>0</td>\n",
       "      <td>0</td>\n",
       "      <td>0</td>\n",
       "      <td>0</td>\n",
       "      <td>...</td>\n",
       "      <td>0</td>\n",
       "      <td>0</td>\n",
       "      <td>1</td>\n",
       "      <td>0</td>\n",
       "      <td>0</td>\n",
       "      <td>0</td>\n",
       "      <td>0</td>\n",
       "      <td>0</td>\n",
       "      <td>1</td>\n",
       "      <td>0</td>\n",
       "    </tr>\n",
       "  </tbody>\n",
       "</table>\n",
       "<p>5 rows × 79 columns</p>\n",
       "</div>"
      ],
      "text/plain": [
       "  Accident_Index  Age_of_Casualty_median  Age_of_Casualty_min  \\\n",
       "0  2017010001708                    18.0                 18.0   \n",
       "1  2017010009342                    33.0                 33.0   \n",
       "2  2017010009344                    31.0                 31.0   \n",
       "3  2017010009348                     3.0                  3.0   \n",
       "4  2017010009350                    45.0                 45.0   \n",
       "\n",
       "   Age_of_Casualty_max  Casualty_Home_Area_Type_1.0_max  \\\n",
       "0                 19.0                                1   \n",
       "1                 33.0                                1   \n",
       "2                 31.0                                1   \n",
       "3                  3.0                                1   \n",
       "4                 45.0                                0   \n",
       "\n",
       "   Casualty_Home_Area_Type_2.0_max  Casualty_Home_Area_Type_3.0_max  \\\n",
       "0                                0                                0   \n",
       "1                                0                                0   \n",
       "2                                0                                0   \n",
       "3                                0                                0   \n",
       "4                                0                                0   \n",
       "\n",
       "   Pedestrian_Location_0_max  Pedestrian_Location_1_max  \\\n",
       "0                          1                          0   \n",
       "1                          1                          0   \n",
       "2                          1                          0   \n",
       "3                          1                          0   \n",
       "4                          0                          0   \n",
       "\n",
       "   Pedestrian_Location_2_max  ...  Age_Band_of_Casualty_5.0_max  \\\n",
       "0                          0  ...                             0   \n",
       "1                          0  ...                             0   \n",
       "2                          0  ...                             0   \n",
       "3                          0  ...                             0   \n",
       "4                          0  ...                             0   \n",
       "\n",
       "   Age_Band_of_Casualty_6.0_max  Age_Band_of_Casualty_7.0_max  \\\n",
       "0                             0                             0   \n",
       "1                             1                             0   \n",
       "2                             1                             0   \n",
       "3                             0                             0   \n",
       "4                             0                             1   \n",
       "\n",
       "   Age_Band_of_Casualty_8.0_max  Age_Band_of_Casualty_9.0_max  \\\n",
       "0                             0                             0   \n",
       "1                             0                             0   \n",
       "2                             0                             0   \n",
       "3                             0                             0   \n",
       "4                             0                             0   \n",
       "\n",
       "   Age_Band_of_Casualty_10.0_max  Age_Band_of_Casualty_11.0_max  \\\n",
       "0                              0                              0   \n",
       "1                              0                              0   \n",
       "2                              0                              0   \n",
       "3                              0                              0   \n",
       "4                              0                              0   \n",
       "\n",
       "   Casualty_Severity_1_max  Casualty_Severity_2_max  Casualty_Severity_3_max  \n",
       "0                        1                        1                        1  \n",
       "1                        0                        0                        1  \n",
       "2                        0                        0                        1  \n",
       "3                        0                        0                        1  \n",
       "4                        0                        1                        0  \n",
       "\n",
       "[5 rows x 79 columns]"
      ]
     },
     "execution_count": 119,
     "metadata": {},
     "output_type": "execute_result"
    }
   ],
   "source": [
    "df_casualties_enc_grouped.head()"
   ]
  },
  {
   "cell_type": "code",
   "execution_count": 120,
   "metadata": {},
   "outputs": [
    {
     "data": {
      "text/plain": [
       "(129982, 79)"
      ]
     },
     "execution_count": 120,
     "metadata": {},
     "output_type": "execute_result"
    }
   ],
   "source": [
    "df_casualties_enc_grouped.shape"
   ]
  },
  {
   "cell_type": "markdown",
   "metadata": {},
   "source": [
    "## merge datasets"
   ]
  },
  {
   "cell_type": "code",
   "execution_count": 170,
   "metadata": {},
   "outputs": [],
   "source": [
    "df_merged = pd.merge(df_accidents_enc, df_vehicles_enc_grouped, on=\"Accident_Index\")"
   ]
  },
  {
   "cell_type": "code",
   "execution_count": 171,
   "metadata": {},
   "outputs": [
    {
     "data": {
      "text/plain": [
       "(129982, 252)"
      ]
     },
     "execution_count": 171,
     "metadata": {},
     "output_type": "execute_result"
    }
   ],
   "source": [
    "df_merged.shape"
   ]
  },
  {
   "cell_type": "code",
   "execution_count": 172,
   "metadata": {},
   "outputs": [],
   "source": [
    "df_merged = pd.merge(df_merged, df_casualties_enc_grouped, on=\"Accident_Index\")"
   ]
  },
  {
   "cell_type": "code",
   "execution_count": 173,
   "metadata": {},
   "outputs": [
    {
     "data": {
      "text/plain": [
       "(129982, 330)"
      ]
     },
     "execution_count": 173,
     "metadata": {},
     "output_type": "execute_result"
    }
   ],
   "source": [
    "df_merged.shape"
   ]
  },
  {
   "cell_type": "markdown",
   "metadata": {},
   "source": [
    "## train model"
   ]
  },
  {
   "cell_type": "code",
   "execution_count": 182,
   "metadata": {},
   "outputs": [],
   "source": [
    "df_data = df_merged.drop(columns=[\"Did_Police_Officer_Attend_Scene_of_Accident\", \"Accident_Index\"])"
   ]
  },
  {
   "cell_type": "code",
   "execution_count": 183,
   "metadata": {},
   "outputs": [],
   "source": [
    "df_labels = df_merged[\"Did_Police_Officer_Attend_Scene_of_Accident\"]"
   ]
  },
  {
   "cell_type": "code",
   "execution_count": 184,
   "metadata": {},
   "outputs": [],
   "source": [
    "from sklearn.model_selection import train_test_split"
   ]
  },
  {
   "cell_type": "code",
   "execution_count": 185,
   "metadata": {},
   "outputs": [],
   "source": [
    "df_X_train, df_X_test, df_y_train, df_y_test = train_test_split(\n",
    "    df_data, df_labels, test_size=0.2, random_state=42)"
   ]
  },
  {
   "cell_type": "code",
   "execution_count": 186,
   "metadata": {},
   "outputs": [],
   "source": [
    "dtrain = xgb.DMatrix(df_X_train, label=df_y_train)\n",
    "dtest = xgb.DMatrix(df_X_test, label=df_y_test)"
   ]
  },
  {
   "cell_type": "code",
   "execution_count": 283,
   "metadata": {},
   "outputs": [],
   "source": [
    "# for the prototype, some typical values are chosen without any optimization\n",
    "param = {'max_depth': 2, 'eta': 1, 'objective': 'binary:logistic'}\n",
    "param['nthread'] = 4\n",
    "param['eval_metric'] = 'auc'\n",
    "evallist = [(dtest, 'eval'), (dtrain, 'train')]"
   ]
  },
  {
   "cell_type": "code",
   "execution_count": 286,
   "metadata": {},
   "outputs": [
    {
     "name": "stdout",
     "output_type": "stream",
     "text": [
      "[0]\teval-auc:0.57253\ttrain-auc:0.57277\n",
      "Multiple eval metrics have been passed: 'train-auc' will be used for early stopping.\n",
      "\n",
      "Will train until train-auc hasn't improved in 3 rounds.\n",
      "[1]\teval-auc:0.66358\ttrain-auc:0.66670\n",
      "[2]\teval-auc:0.72797\ttrain-auc:0.73390\n",
      "[3]\teval-auc:0.74452\ttrain-auc:0.75077\n",
      "[4]\teval-auc:0.76057\ttrain-auc:0.76568\n",
      "[5]\teval-auc:0.77117\ttrain-auc:0.77749\n",
      "[6]\teval-auc:0.77886\ttrain-auc:0.78530\n",
      "[7]\teval-auc:0.79454\ttrain-auc:0.79904\n",
      "[8]\teval-auc:0.80131\ttrain-auc:0.80519\n",
      "[9]\teval-auc:0.80618\ttrain-auc:0.81031\n",
      "[10]\teval-auc:0.80892\ttrain-auc:0.81371\n",
      "[11]\teval-auc:0.81121\ttrain-auc:0.81717\n",
      "[12]\teval-auc:0.81313\ttrain-auc:0.81914\n",
      "[13]\teval-auc:0.81507\ttrain-auc:0.82134\n",
      "[14]\teval-auc:0.81950\ttrain-auc:0.82449\n",
      "[15]\teval-auc:0.82144\ttrain-auc:0.82697\n",
      "[16]\teval-auc:0.82337\ttrain-auc:0.82883\n",
      "[17]\teval-auc:0.82668\ttrain-auc:0.83149\n",
      "[18]\teval-auc:0.82790\ttrain-auc:0.83240\n",
      "[19]\teval-auc:0.82882\ttrain-auc:0.83375\n",
      "[20]\teval-auc:0.83024\ttrain-auc:0.83512\n",
      "[21]\teval-auc:0.83120\ttrain-auc:0.83666\n",
      "[22]\teval-auc:0.83141\ttrain-auc:0.83744\n",
      "[23]\teval-auc:0.83231\ttrain-auc:0.83853\n",
      "[24]\teval-auc:0.83381\ttrain-auc:0.84009\n",
      "[25]\teval-auc:0.83599\ttrain-auc:0.84182\n",
      "[26]\teval-auc:0.83627\ttrain-auc:0.84259\n",
      "[27]\teval-auc:0.83693\ttrain-auc:0.84328\n",
      "[28]\teval-auc:0.83682\ttrain-auc:0.84402\n",
      "[29]\teval-auc:0.83713\ttrain-auc:0.84459\n",
      "[30]\teval-auc:0.83748\ttrain-auc:0.84516\n",
      "[31]\teval-auc:0.83815\ttrain-auc:0.84594\n",
      "[32]\teval-auc:0.83873\ttrain-auc:0.84648\n",
      "[33]\teval-auc:0.83942\ttrain-auc:0.84697\n",
      "[34]\teval-auc:0.84019\ttrain-auc:0.84781\n",
      "[35]\teval-auc:0.84040\ttrain-auc:0.84823\n",
      "[36]\teval-auc:0.84211\ttrain-auc:0.84973\n",
      "[37]\teval-auc:0.84244\ttrain-auc:0.85008\n",
      "[38]\teval-auc:0.84266\ttrain-auc:0.85056\n",
      "[39]\teval-auc:0.84288\ttrain-auc:0.85105\n",
      "[40]\teval-auc:0.84306\ttrain-auc:0.85134\n",
      "[41]\teval-auc:0.84343\ttrain-auc:0.85170\n",
      "[42]\teval-auc:0.84349\ttrain-auc:0.85209\n",
      "[43]\teval-auc:0.84387\ttrain-auc:0.85252\n",
      "[44]\teval-auc:0.84394\ttrain-auc:0.85274\n",
      "[45]\teval-auc:0.84412\ttrain-auc:0.85306\n",
      "[46]\teval-auc:0.84474\ttrain-auc:0.85347\n",
      "[47]\teval-auc:0.84549\ttrain-auc:0.85384\n",
      "[48]\teval-auc:0.84588\ttrain-auc:0.85429\n",
      "[49]\teval-auc:0.84627\ttrain-auc:0.85452\n",
      "[50]\teval-auc:0.84645\ttrain-auc:0.85476\n",
      "[51]\teval-auc:0.84659\ttrain-auc:0.85503\n",
      "[52]\teval-auc:0.84721\ttrain-auc:0.85548\n",
      "[53]\teval-auc:0.84718\ttrain-auc:0.85573\n",
      "[54]\teval-auc:0.84736\ttrain-auc:0.85608\n",
      "[55]\teval-auc:0.84847\ttrain-auc:0.85669\n",
      "[56]\teval-auc:0.84916\ttrain-auc:0.85731\n",
      "[57]\teval-auc:0.84930\ttrain-auc:0.85750\n",
      "[58]\teval-auc:0.84948\ttrain-auc:0.85792\n",
      "[59]\teval-auc:0.84952\ttrain-auc:0.85813\n",
      "[60]\teval-auc:0.84953\ttrain-auc:0.85828\n",
      "[61]\teval-auc:0.85014\ttrain-auc:0.85872\n",
      "[62]\teval-auc:0.85011\ttrain-auc:0.85905\n",
      "[63]\teval-auc:0.85050\ttrain-auc:0.85942\n",
      "[64]\teval-auc:0.85126\ttrain-auc:0.86016\n",
      "[65]\teval-auc:0.85233\ttrain-auc:0.86068\n",
      "[66]\teval-auc:0.85247\ttrain-auc:0.86094\n",
      "[67]\teval-auc:0.85266\ttrain-auc:0.86119\n",
      "[68]\teval-auc:0.85286\ttrain-auc:0.86142\n",
      "[69]\teval-auc:0.85328\ttrain-auc:0.86179\n",
      "[70]\teval-auc:0.85337\ttrain-auc:0.86196\n",
      "[71]\teval-auc:0.85343\ttrain-auc:0.86213\n",
      "[72]\teval-auc:0.85366\ttrain-auc:0.86232\n",
      "[73]\teval-auc:0.85385\ttrain-auc:0.86254\n",
      "[74]\teval-auc:0.85392\ttrain-auc:0.86267\n",
      "[75]\teval-auc:0.85401\ttrain-auc:0.86279\n",
      "[76]\teval-auc:0.85370\ttrain-auc:0.86325\n",
      "[77]\teval-auc:0.85388\ttrain-auc:0.86339\n",
      "[78]\teval-auc:0.85391\ttrain-auc:0.86362\n",
      "[79]\teval-auc:0.85412\ttrain-auc:0.86381\n",
      "[80]\teval-auc:0.85426\ttrain-auc:0.86401\n",
      "[81]\teval-auc:0.85431\ttrain-auc:0.86417\n",
      "[82]\teval-auc:0.85447\ttrain-auc:0.86433\n",
      "[83]\teval-auc:0.85429\ttrain-auc:0.86450\n",
      "[84]\teval-auc:0.85428\ttrain-auc:0.86466\n",
      "[85]\teval-auc:0.85442\ttrain-auc:0.86482\n",
      "[86]\teval-auc:0.85460\ttrain-auc:0.86503\n",
      "[87]\teval-auc:0.85475\ttrain-auc:0.86523\n",
      "[88]\teval-auc:0.85477\ttrain-auc:0.86538\n",
      "[89]\teval-auc:0.85472\ttrain-auc:0.86552\n",
      "[90]\teval-auc:0.85477\ttrain-auc:0.86567\n",
      "[91]\teval-auc:0.85550\ttrain-auc:0.86625\n",
      "[92]\teval-auc:0.85561\ttrain-auc:0.86646\n",
      "[93]\teval-auc:0.85566\ttrain-auc:0.86667\n",
      "[94]\teval-auc:0.85589\ttrain-auc:0.86690\n",
      "[95]\teval-auc:0.85585\ttrain-auc:0.86717\n",
      "[96]\teval-auc:0.85604\ttrain-auc:0.86744\n",
      "[97]\teval-auc:0.85623\ttrain-auc:0.86757\n",
      "[98]\teval-auc:0.85619\ttrain-auc:0.86774\n",
      "[99]\teval-auc:0.85625\ttrain-auc:0.86786\n",
      "[100]\teval-auc:0.85657\ttrain-auc:0.86816\n",
      "[101]\teval-auc:0.85664\ttrain-auc:0.86832\n",
      "[102]\teval-auc:0.85684\ttrain-auc:0.86851\n",
      "[103]\teval-auc:0.85681\ttrain-auc:0.86859\n",
      "[104]\teval-auc:0.85685\ttrain-auc:0.86869\n",
      "[105]\teval-auc:0.85692\ttrain-auc:0.86879\n",
      "[106]\teval-auc:0.85726\ttrain-auc:0.86896\n",
      "[107]\teval-auc:0.85754\ttrain-auc:0.86953\n",
      "[108]\teval-auc:0.85771\ttrain-auc:0.86981\n",
      "[109]\teval-auc:0.85813\ttrain-auc:0.87009\n",
      "[110]\teval-auc:0.85835\ttrain-auc:0.87026\n",
      "[111]\teval-auc:0.85832\ttrain-auc:0.87035\n",
      "[112]\teval-auc:0.85851\ttrain-auc:0.87051\n",
      "[113]\teval-auc:0.85861\ttrain-auc:0.87067\n",
      "[114]\teval-auc:0.85870\ttrain-auc:0.87084\n",
      "[115]\teval-auc:0.85865\ttrain-auc:0.87095\n",
      "[116]\teval-auc:0.85907\ttrain-auc:0.87117\n",
      "[117]\teval-auc:0.85894\ttrain-auc:0.87129\n",
      "[118]\teval-auc:0.85907\ttrain-auc:0.87143\n",
      "[119]\teval-auc:0.85920\ttrain-auc:0.87154\n",
      "[120]\teval-auc:0.85916\ttrain-auc:0.87161\n",
      "[121]\teval-auc:0.85920\ttrain-auc:0.87173\n",
      "[122]\teval-auc:0.85939\ttrain-auc:0.87190\n",
      "[123]\teval-auc:0.85947\ttrain-auc:0.87205\n",
      "[124]\teval-auc:0.85997\ttrain-auc:0.87230\n",
      "[125]\teval-auc:0.86059\ttrain-auc:0.87270\n",
      "[126]\teval-auc:0.86063\ttrain-auc:0.87283\n",
      "[127]\teval-auc:0.86065\ttrain-auc:0.87296\n",
      "[128]\teval-auc:0.86083\ttrain-auc:0.87310\n",
      "[129]\teval-auc:0.86092\ttrain-auc:0.87319\n",
      "[130]\teval-auc:0.86106\ttrain-auc:0.87331\n",
      "[131]\teval-auc:0.86103\ttrain-auc:0.87354\n",
      "[132]\teval-auc:0.86094\ttrain-auc:0.87373\n",
      "[133]\teval-auc:0.86113\ttrain-auc:0.87386\n",
      "[134]\teval-auc:0.86124\ttrain-auc:0.87396\n",
      "[135]\teval-auc:0.86114\ttrain-auc:0.87407\n",
      "[136]\teval-auc:0.86115\ttrain-auc:0.87415\n",
      "[137]\teval-auc:0.86125\ttrain-auc:0.87433\n",
      "[138]\teval-auc:0.86159\ttrain-auc:0.87440\n",
      "[139]\teval-auc:0.86172\ttrain-auc:0.87456\n",
      "[140]\teval-auc:0.86180\ttrain-auc:0.87471\n",
      "[141]\teval-auc:0.86210\ttrain-auc:0.87490\n",
      "[142]\teval-auc:0.86205\ttrain-auc:0.87511\n",
      "[143]\teval-auc:0.86220\ttrain-auc:0.87526\n",
      "[144]\teval-auc:0.86225\ttrain-auc:0.87537\n",
      "[145]\teval-auc:0.86227\ttrain-auc:0.87547\n",
      "[146]\teval-auc:0.86230\ttrain-auc:0.87553\n",
      "[147]\teval-auc:0.86231\ttrain-auc:0.87562\n",
      "[148]\teval-auc:0.86235\ttrain-auc:0.87569\n",
      "[149]\teval-auc:0.86251\ttrain-auc:0.87588\n",
      "[150]\teval-auc:0.86261\ttrain-auc:0.87606\n",
      "[151]\teval-auc:0.86262\ttrain-auc:0.87616\n",
      "[152]\teval-auc:0.86265\ttrain-auc:0.87627\n",
      "[153]\teval-auc:0.86260\ttrain-auc:0.87632\n",
      "[154]\teval-auc:0.86266\ttrain-auc:0.87640\n",
      "[155]\teval-auc:0.86274\ttrain-auc:0.87647\n",
      "[156]\teval-auc:0.86273\ttrain-auc:0.87657\n",
      "[157]\teval-auc:0.86266\ttrain-auc:0.87666\n",
      "[158]\teval-auc:0.86266\ttrain-auc:0.87679\n",
      "[159]\teval-auc:0.86270\ttrain-auc:0.87684\n",
      "[160]\teval-auc:0.86269\ttrain-auc:0.87691\n",
      "[161]\teval-auc:0.86257\ttrain-auc:0.87700\n",
      "[162]\teval-auc:0.86258\ttrain-auc:0.87706\n",
      "[163]\teval-auc:0.86251\ttrain-auc:0.87712\n",
      "[164]\teval-auc:0.86256\ttrain-auc:0.87721\n",
      "[165]\teval-auc:0.86258\ttrain-auc:0.87722\n",
      "[166]\teval-auc:0.86262\ttrain-auc:0.87732\n",
      "[167]\teval-auc:0.86264\ttrain-auc:0.87735\n",
      "[168]\teval-auc:0.86271\ttrain-auc:0.87741\n",
      "[169]\teval-auc:0.86272\ttrain-auc:0.87750\n",
      "[170]\teval-auc:0.86275\ttrain-auc:0.87754\n",
      "[171]\teval-auc:0.86290\ttrain-auc:0.87759\n",
      "[172]\teval-auc:0.86288\ttrain-auc:0.87767\n",
      "[173]\teval-auc:0.86284\ttrain-auc:0.87775\n",
      "[174]\teval-auc:0.86283\ttrain-auc:0.87782\n",
      "[175]\teval-auc:0.86285\ttrain-auc:0.87797\n",
      "[176]\teval-auc:0.86301\ttrain-auc:0.87808\n",
      "[177]\teval-auc:0.86309\ttrain-auc:0.87822\n",
      "[178]\teval-auc:0.86310\ttrain-auc:0.87834\n",
      "[179]\teval-auc:0.86318\ttrain-auc:0.87843\n",
      "[180]\teval-auc:0.86318\ttrain-auc:0.87855\n",
      "[181]\teval-auc:0.86326\ttrain-auc:0.87864\n",
      "[182]\teval-auc:0.86330\ttrain-auc:0.87874\n",
      "[183]\teval-auc:0.86335\ttrain-auc:0.87883\n",
      "[184]\teval-auc:0.86348\ttrain-auc:0.87890\n",
      "[185]\teval-auc:0.86341\ttrain-auc:0.87896\n",
      "[186]\teval-auc:0.86343\ttrain-auc:0.87902\n",
      "[187]\teval-auc:0.86353\ttrain-auc:0.87910\n",
      "[188]\teval-auc:0.86339\ttrain-auc:0.87926\n",
      "[189]\teval-auc:0.86327\ttrain-auc:0.87934\n",
      "[190]\teval-auc:0.86332\ttrain-auc:0.87943\n",
      "[191]\teval-auc:0.86342\ttrain-auc:0.87948\n",
      "[192]\teval-auc:0.86328\ttrain-auc:0.87956\n",
      "[193]\teval-auc:0.86333\ttrain-auc:0.87968\n",
      "[194]\teval-auc:0.86322\ttrain-auc:0.87975\n",
      "[195]\teval-auc:0.86337\ttrain-auc:0.87987\n",
      "[196]\teval-auc:0.86338\ttrain-auc:0.88001\n",
      "[197]\teval-auc:0.86338\ttrain-auc:0.88011\n",
      "[198]\teval-auc:0.86331\ttrain-auc:0.88019\n",
      "[199]\teval-auc:0.86326\ttrain-auc:0.88026\n"
     ]
    },
    {
     "name": "stdout",
     "output_type": "stream",
     "text": [
      "[200]\teval-auc:0.86332\ttrain-auc:0.88030\n",
      "[201]\teval-auc:0.86338\ttrain-auc:0.88036\n",
      "[202]\teval-auc:0.86338\ttrain-auc:0.88042\n",
      "[203]\teval-auc:0.86336\ttrain-auc:0.88048\n",
      "[204]\teval-auc:0.86341\ttrain-auc:0.88057\n",
      "[205]\teval-auc:0.86325\ttrain-auc:0.88064\n",
      "[206]\teval-auc:0.86339\ttrain-auc:0.88091\n",
      "[207]\teval-auc:0.86344\ttrain-auc:0.88103\n",
      "[208]\teval-auc:0.86360\ttrain-auc:0.88117\n",
      "[209]\teval-auc:0.86392\ttrain-auc:0.88135\n",
      "[210]\teval-auc:0.86392\ttrain-auc:0.88139\n",
      "[211]\teval-auc:0.86375\ttrain-auc:0.88144\n",
      "[212]\teval-auc:0.86364\ttrain-auc:0.88151\n",
      "[213]\teval-auc:0.86356\ttrain-auc:0.88161\n",
      "[214]\teval-auc:0.86401\ttrain-auc:0.88195\n",
      "[215]\teval-auc:0.86420\ttrain-auc:0.88204\n",
      "[216]\teval-auc:0.86426\ttrain-auc:0.88210\n",
      "[217]\teval-auc:0.86435\ttrain-auc:0.88219\n",
      "[218]\teval-auc:0.86428\ttrain-auc:0.88229\n",
      "[219]\teval-auc:0.86446\ttrain-auc:0.88237\n",
      "[220]\teval-auc:0.86439\ttrain-auc:0.88247\n",
      "[221]\teval-auc:0.86444\ttrain-auc:0.88252\n",
      "[222]\teval-auc:0.86450\ttrain-auc:0.88264\n",
      "[223]\teval-auc:0.86491\ttrain-auc:0.88284\n",
      "[224]\teval-auc:0.86493\ttrain-auc:0.88303\n",
      "[225]\teval-auc:0.86503\ttrain-auc:0.88316\n",
      "[226]\teval-auc:0.86493\ttrain-auc:0.88332\n",
      "[227]\teval-auc:0.86533\ttrain-auc:0.88355\n",
      "[228]\teval-auc:0.86567\ttrain-auc:0.88380\n",
      "[229]\teval-auc:0.86572\ttrain-auc:0.88386\n",
      "[230]\teval-auc:0.86575\ttrain-auc:0.88393\n",
      "[231]\teval-auc:0.86589\ttrain-auc:0.88405\n",
      "[232]\teval-auc:0.86642\ttrain-auc:0.88421\n",
      "[233]\teval-auc:0.86657\ttrain-auc:0.88447\n",
      "[234]\teval-auc:0.86659\ttrain-auc:0.88457\n",
      "[235]\teval-auc:0.86670\ttrain-auc:0.88466\n",
      "[236]\teval-auc:0.86665\ttrain-auc:0.88472\n",
      "[237]\teval-auc:0.86672\ttrain-auc:0.88480\n",
      "[238]\teval-auc:0.86669\ttrain-auc:0.88485\n",
      "[239]\teval-auc:0.86675\ttrain-auc:0.88487\n",
      "[240]\teval-auc:0.86675\ttrain-auc:0.88494\n",
      "[241]\teval-auc:0.86661\ttrain-auc:0.88500\n",
      "[242]\teval-auc:0.86672\ttrain-auc:0.88509\n",
      "[243]\teval-auc:0.86677\ttrain-auc:0.88517\n",
      "[244]\teval-auc:0.86671\ttrain-auc:0.88532\n",
      "[245]\teval-auc:0.86672\ttrain-auc:0.88538\n",
      "[246]\teval-auc:0.86689\ttrain-auc:0.88548\n",
      "[247]\teval-auc:0.86690\ttrain-auc:0.88556\n",
      "[248]\teval-auc:0.86684\ttrain-auc:0.88559\n",
      "[249]\teval-auc:0.86687\ttrain-auc:0.88566\n",
      "[250]\teval-auc:0.86669\ttrain-auc:0.88571\n",
      "[251]\teval-auc:0.86672\ttrain-auc:0.88575\n",
      "[252]\teval-auc:0.86667\ttrain-auc:0.88582\n",
      "[253]\teval-auc:0.86666\ttrain-auc:0.88588\n",
      "[254]\teval-auc:0.86669\ttrain-auc:0.88593\n",
      "[255]\teval-auc:0.86669\ttrain-auc:0.88605\n",
      "[256]\teval-auc:0.86687\ttrain-auc:0.88620\n",
      "[257]\teval-auc:0.86672\ttrain-auc:0.88626\n",
      "[258]\teval-auc:0.86677\ttrain-auc:0.88630\n",
      "[259]\teval-auc:0.86672\ttrain-auc:0.88636\n",
      "[260]\teval-auc:0.86684\ttrain-auc:0.88643\n",
      "[261]\teval-auc:0.86687\ttrain-auc:0.88650\n",
      "[262]\teval-auc:0.86692\ttrain-auc:0.88653\n",
      "[263]\teval-auc:0.86697\ttrain-auc:0.88658\n",
      "[264]\teval-auc:0.86694\ttrain-auc:0.88675\n",
      "[265]\teval-auc:0.86703\ttrain-auc:0.88687\n",
      "[266]\teval-auc:0.86700\ttrain-auc:0.88692\n",
      "[267]\teval-auc:0.86694\ttrain-auc:0.88702\n",
      "[268]\teval-auc:0.86689\ttrain-auc:0.88708\n",
      "[269]\teval-auc:0.86707\ttrain-auc:0.88723\n",
      "[270]\teval-auc:0.86715\ttrain-auc:0.88733\n",
      "[271]\teval-auc:0.86711\ttrain-auc:0.88741\n",
      "[272]\teval-auc:0.86720\ttrain-auc:0.88758\n",
      "[273]\teval-auc:0.86718\ttrain-auc:0.88766\n",
      "[274]\teval-auc:0.86728\ttrain-auc:0.88777\n",
      "[275]\teval-auc:0.86732\ttrain-auc:0.88785\n",
      "[276]\teval-auc:0.86729\ttrain-auc:0.88790\n",
      "[277]\teval-auc:0.86736\ttrain-auc:0.88799\n",
      "[278]\teval-auc:0.86738\ttrain-auc:0.88808\n",
      "[279]\teval-auc:0.86745\ttrain-auc:0.88812\n",
      "[280]\teval-auc:0.86747\ttrain-auc:0.88821\n",
      "[281]\teval-auc:0.86739\ttrain-auc:0.88828\n",
      "[282]\teval-auc:0.86727\ttrain-auc:0.88833\n",
      "[283]\teval-auc:0.86717\ttrain-auc:0.88837\n",
      "[284]\teval-auc:0.86705\ttrain-auc:0.88843\n",
      "[285]\teval-auc:0.86708\ttrain-auc:0.88850\n",
      "[286]\teval-auc:0.86700\ttrain-auc:0.88859\n",
      "[287]\teval-auc:0.86692\ttrain-auc:0.88866\n",
      "[288]\teval-auc:0.86696\ttrain-auc:0.88870\n",
      "[289]\teval-auc:0.86701\ttrain-auc:0.88874\n",
      "[290]\teval-auc:0.86695\ttrain-auc:0.88879\n",
      "[291]\teval-auc:0.86704\ttrain-auc:0.88883\n",
      "[292]\teval-auc:0.86716\ttrain-auc:0.88892\n",
      "[293]\teval-auc:0.86711\ttrain-auc:0.88897\n",
      "[294]\teval-auc:0.86715\ttrain-auc:0.88904\n",
      "[295]\teval-auc:0.86736\ttrain-auc:0.88919\n",
      "[296]\teval-auc:0.86742\ttrain-auc:0.88929\n",
      "[297]\teval-auc:0.86729\ttrain-auc:0.88935\n",
      "[298]\teval-auc:0.86725\ttrain-auc:0.88941\n",
      "[299]\teval-auc:0.86732\ttrain-auc:0.88944\n",
      "[300]\teval-auc:0.86738\ttrain-auc:0.88950\n",
      "[301]\teval-auc:0.86758\ttrain-auc:0.88955\n",
      "[302]\teval-auc:0.86785\ttrain-auc:0.88969\n",
      "[303]\teval-auc:0.86805\ttrain-auc:0.88981\n",
      "[304]\teval-auc:0.86817\ttrain-auc:0.88998\n",
      "[305]\teval-auc:0.86813\ttrain-auc:0.89004\n",
      "[306]\teval-auc:0.86837\ttrain-auc:0.89011\n",
      "[307]\teval-auc:0.86843\ttrain-auc:0.89019\n",
      "[308]\teval-auc:0.86863\ttrain-auc:0.89034\n",
      "[309]\teval-auc:0.86875\ttrain-auc:0.89046\n",
      "[310]\teval-auc:0.86877\ttrain-auc:0.89058\n",
      "[311]\teval-auc:0.86870\ttrain-auc:0.89060\n",
      "[312]\teval-auc:0.86884\ttrain-auc:0.89075\n",
      "[313]\teval-auc:0.86888\ttrain-auc:0.89085\n",
      "[314]\teval-auc:0.86906\ttrain-auc:0.89096\n",
      "[315]\teval-auc:0.86905\ttrain-auc:0.89101\n",
      "[316]\teval-auc:0.86897\ttrain-auc:0.89106\n",
      "[317]\teval-auc:0.86908\ttrain-auc:0.89111\n",
      "[318]\teval-auc:0.86907\ttrain-auc:0.89120\n",
      "[319]\teval-auc:0.86917\ttrain-auc:0.89126\n",
      "[320]\teval-auc:0.86914\ttrain-auc:0.89138\n",
      "[321]\teval-auc:0.86916\ttrain-auc:0.89143\n",
      "[322]\teval-auc:0.86918\ttrain-auc:0.89151\n",
      "[323]\teval-auc:0.86910\ttrain-auc:0.89159\n",
      "[324]\teval-auc:0.86913\ttrain-auc:0.89160\n",
      "[325]\teval-auc:0.86913\ttrain-auc:0.89165\n",
      "[326]\teval-auc:0.86914\ttrain-auc:0.89167\n",
      "[327]\teval-auc:0.86905\ttrain-auc:0.89172\n",
      "[328]\teval-auc:0.86906\ttrain-auc:0.89177\n",
      "[329]\teval-auc:0.86908\ttrain-auc:0.89183\n",
      "[330]\teval-auc:0.86920\ttrain-auc:0.89190\n",
      "[331]\teval-auc:0.86915\ttrain-auc:0.89202\n",
      "[332]\teval-auc:0.86914\ttrain-auc:0.89209\n",
      "[333]\teval-auc:0.86909\ttrain-auc:0.89214\n",
      "[334]\teval-auc:0.86910\ttrain-auc:0.89223\n",
      "[335]\teval-auc:0.86944\ttrain-auc:0.89238\n",
      "[336]\teval-auc:0.86960\ttrain-auc:0.89243\n",
      "[337]\teval-auc:0.86970\ttrain-auc:0.89253\n",
      "[338]\teval-auc:0.86968\ttrain-auc:0.89257\n",
      "[339]\teval-auc:0.86966\ttrain-auc:0.89264\n",
      "[340]\teval-auc:0.86972\ttrain-auc:0.89275\n",
      "[341]\teval-auc:0.86964\ttrain-auc:0.89281\n",
      "[342]\teval-auc:0.86981\ttrain-auc:0.89292\n",
      "[343]\teval-auc:0.86983\ttrain-auc:0.89300\n",
      "[344]\teval-auc:0.86983\ttrain-auc:0.89307\n",
      "[345]\teval-auc:0.86988\ttrain-auc:0.89312\n",
      "[346]\teval-auc:0.86992\ttrain-auc:0.89317\n",
      "[347]\teval-auc:0.86988\ttrain-auc:0.89322\n",
      "[348]\teval-auc:0.86987\ttrain-auc:0.89327\n",
      "[349]\teval-auc:0.86986\ttrain-auc:0.89332\n",
      "[350]\teval-auc:0.86982\ttrain-auc:0.89338\n",
      "[351]\teval-auc:0.86976\ttrain-auc:0.89344\n",
      "[352]\teval-auc:0.86977\ttrain-auc:0.89348\n",
      "[353]\teval-auc:0.86982\ttrain-auc:0.89353\n",
      "[354]\teval-auc:0.86969\ttrain-auc:0.89359\n",
      "[355]\teval-auc:0.86967\ttrain-auc:0.89364\n",
      "[356]\teval-auc:0.86959\ttrain-auc:0.89369\n",
      "[357]\teval-auc:0.86962\ttrain-auc:0.89376\n",
      "[358]\teval-auc:0.86966\ttrain-auc:0.89380\n",
      "[359]\teval-auc:0.86961\ttrain-auc:0.89384\n",
      "[360]\teval-auc:0.86968\ttrain-auc:0.89389\n",
      "[361]\teval-auc:0.86971\ttrain-auc:0.89393\n",
      "[362]\teval-auc:0.86979\ttrain-auc:0.89402\n",
      "[363]\teval-auc:0.86987\ttrain-auc:0.89409\n",
      "[364]\teval-auc:0.86981\ttrain-auc:0.89415\n",
      "[365]\teval-auc:0.86983\ttrain-auc:0.89422\n",
      "[366]\teval-auc:0.86987\ttrain-auc:0.89428\n",
      "[367]\teval-auc:0.86974\ttrain-auc:0.89432\n",
      "[368]\teval-auc:0.86969\ttrain-auc:0.89437\n",
      "[369]\teval-auc:0.86967\ttrain-auc:0.89443\n",
      "[370]\teval-auc:0.86956\ttrain-auc:0.89447\n",
      "[371]\teval-auc:0.86975\ttrain-auc:0.89458\n",
      "[372]\teval-auc:0.86968\ttrain-auc:0.89462\n",
      "[373]\teval-auc:0.86966\ttrain-auc:0.89469\n",
      "[374]\teval-auc:0.86967\ttrain-auc:0.89468\n",
      "[375]\teval-auc:0.86965\ttrain-auc:0.89473\n",
      "[376]\teval-auc:0.86974\ttrain-auc:0.89478\n",
      "[377]\teval-auc:0.86970\ttrain-auc:0.89485\n",
      "[378]\teval-auc:0.86962\ttrain-auc:0.89493\n",
      "[379]\teval-auc:0.86972\ttrain-auc:0.89498\n",
      "[380]\teval-auc:0.86976\ttrain-auc:0.89504\n",
      "[381]\teval-auc:0.86980\ttrain-auc:0.89510\n",
      "[382]\teval-auc:0.86984\ttrain-auc:0.89512\n",
      "[383]\teval-auc:0.86988\ttrain-auc:0.89515\n",
      "[384]\teval-auc:0.86996\ttrain-auc:0.89519\n",
      "[385]\teval-auc:0.86996\ttrain-auc:0.89525\n",
      "[386]\teval-auc:0.86993\ttrain-auc:0.89530\n",
      "[387]\teval-auc:0.86976\ttrain-auc:0.89536\n",
      "[388]\teval-auc:0.86973\ttrain-auc:0.89542\n",
      "[389]\teval-auc:0.86964\ttrain-auc:0.89548\n",
      "[390]\teval-auc:0.86956\ttrain-auc:0.89553\n",
      "[391]\teval-auc:0.86953\ttrain-auc:0.89558\n",
      "[392]\teval-auc:0.86955\ttrain-auc:0.89563\n",
      "[393]\teval-auc:0.86957\ttrain-auc:0.89567\n",
      "[394]\teval-auc:0.86968\ttrain-auc:0.89576\n",
      "[395]\teval-auc:0.86953\ttrain-auc:0.89583\n",
      "[396]\teval-auc:0.86945\ttrain-auc:0.89586\n",
      "[397]\teval-auc:0.86946\ttrain-auc:0.89591\n",
      "[398]\teval-auc:0.86942\ttrain-auc:0.89593\n",
      "[399]\teval-auc:0.86938\ttrain-auc:0.89596\n"
     ]
    },
    {
     "name": "stdout",
     "output_type": "stream",
     "text": [
      "[400]\teval-auc:0.86934\ttrain-auc:0.89600\n",
      "[401]\teval-auc:0.86933\ttrain-auc:0.89604\n",
      "[402]\teval-auc:0.86931\ttrain-auc:0.89608\n",
      "[403]\teval-auc:0.86922\ttrain-auc:0.89614\n",
      "[404]\teval-auc:0.86923\ttrain-auc:0.89617\n",
      "[405]\teval-auc:0.86922\ttrain-auc:0.89621\n",
      "[406]\teval-auc:0.86924\ttrain-auc:0.89624\n",
      "[407]\teval-auc:0.86924\ttrain-auc:0.89628\n",
      "[408]\teval-auc:0.86921\ttrain-auc:0.89631\n",
      "[409]\teval-auc:0.86917\ttrain-auc:0.89640\n",
      "[410]\teval-auc:0.86920\ttrain-auc:0.89645\n",
      "[411]\teval-auc:0.86927\ttrain-auc:0.89650\n",
      "[412]\teval-auc:0.86926\ttrain-auc:0.89658\n",
      "[413]\teval-auc:0.86926\ttrain-auc:0.89662\n",
      "[414]\teval-auc:0.86924\ttrain-auc:0.89669\n",
      "[415]\teval-auc:0.86947\ttrain-auc:0.89677\n",
      "[416]\teval-auc:0.86953\ttrain-auc:0.89681\n",
      "[417]\teval-auc:0.86954\ttrain-auc:0.89685\n",
      "[418]\teval-auc:0.86943\ttrain-auc:0.89689\n",
      "[419]\teval-auc:0.86936\ttrain-auc:0.89692\n",
      "[420]\teval-auc:0.86937\ttrain-auc:0.89695\n",
      "[421]\teval-auc:0.86953\ttrain-auc:0.89702\n",
      "[422]\teval-auc:0.86955\ttrain-auc:0.89709\n",
      "[423]\teval-auc:0.86977\ttrain-auc:0.89716\n",
      "[424]\teval-auc:0.86981\ttrain-auc:0.89719\n",
      "[425]\teval-auc:0.86983\ttrain-auc:0.89724\n",
      "[426]\teval-auc:0.86986\ttrain-auc:0.89734\n",
      "[427]\teval-auc:0.86981\ttrain-auc:0.89738\n",
      "[428]\teval-auc:0.86978\ttrain-auc:0.89741\n",
      "[429]\teval-auc:0.86974\ttrain-auc:0.89747\n",
      "[430]\teval-auc:0.86977\ttrain-auc:0.89750\n",
      "[431]\teval-auc:0.86977\ttrain-auc:0.89751\n",
      "[432]\teval-auc:0.86982\ttrain-auc:0.89756\n",
      "[433]\teval-auc:0.86984\ttrain-auc:0.89760\n",
      "[434]\teval-auc:0.86977\ttrain-auc:0.89765\n",
      "[435]\teval-auc:0.86978\ttrain-auc:0.89769\n",
      "[436]\teval-auc:0.86972\ttrain-auc:0.89773\n",
      "[437]\teval-auc:0.86978\ttrain-auc:0.89776\n",
      "[438]\teval-auc:0.86965\ttrain-auc:0.89783\n",
      "[439]\teval-auc:0.86959\ttrain-auc:0.89786\n",
      "[440]\teval-auc:0.86950\ttrain-auc:0.89793\n",
      "[441]\teval-auc:0.86943\ttrain-auc:0.89798\n",
      "[442]\teval-auc:0.86947\ttrain-auc:0.89801\n",
      "[443]\teval-auc:0.86943\ttrain-auc:0.89806\n",
      "[444]\teval-auc:0.86951\ttrain-auc:0.89809\n",
      "[445]\teval-auc:0.86949\ttrain-auc:0.89817\n",
      "[446]\teval-auc:0.86970\ttrain-auc:0.89820\n",
      "[447]\teval-auc:0.86975\ttrain-auc:0.89828\n",
      "[448]\teval-auc:0.86973\ttrain-auc:0.89831\n",
      "[449]\teval-auc:0.86979\ttrain-auc:0.89837\n",
      "[450]\teval-auc:0.86973\ttrain-auc:0.89842\n",
      "[451]\teval-auc:0.86968\ttrain-auc:0.89847\n",
      "[452]\teval-auc:0.86969\ttrain-auc:0.89852\n",
      "[453]\teval-auc:0.86965\ttrain-auc:0.89855\n",
      "[454]\teval-auc:0.86965\ttrain-auc:0.89863\n",
      "[455]\teval-auc:0.86962\ttrain-auc:0.89868\n",
      "[456]\teval-auc:0.86955\ttrain-auc:0.89874\n",
      "[457]\teval-auc:0.86949\ttrain-auc:0.89877\n",
      "[458]\teval-auc:0.86950\ttrain-auc:0.89879\n",
      "[459]\teval-auc:0.86950\ttrain-auc:0.89884\n",
      "[460]\teval-auc:0.86951\ttrain-auc:0.89887\n",
      "[461]\teval-auc:0.86956\ttrain-auc:0.89891\n",
      "[462]\teval-auc:0.86964\ttrain-auc:0.89896\n",
      "[463]\teval-auc:0.86966\ttrain-auc:0.89903\n",
      "[464]\teval-auc:0.86981\ttrain-auc:0.89907\n",
      "[465]\teval-auc:0.86986\ttrain-auc:0.89913\n",
      "[466]\teval-auc:0.86981\ttrain-auc:0.89918\n",
      "[467]\teval-auc:0.86973\ttrain-auc:0.89922\n",
      "[468]\teval-auc:0.86991\ttrain-auc:0.89928\n",
      "[469]\teval-auc:0.87004\ttrain-auc:0.89931\n",
      "[470]\teval-auc:0.86995\ttrain-auc:0.89937\n",
      "[471]\teval-auc:0.87006\ttrain-auc:0.89940\n",
      "[472]\teval-auc:0.87009\ttrain-auc:0.89947\n",
      "[473]\teval-auc:0.87025\ttrain-auc:0.89953\n",
      "[474]\teval-auc:0.87011\ttrain-auc:0.89960\n",
      "[475]\teval-auc:0.87009\ttrain-auc:0.89963\n",
      "[476]\teval-auc:0.87003\ttrain-auc:0.89969\n",
      "[477]\teval-auc:0.86987\ttrain-auc:0.89974\n",
      "[478]\teval-auc:0.86992\ttrain-auc:0.89977\n",
      "[479]\teval-auc:0.87004\ttrain-auc:0.89984\n",
      "[480]\teval-auc:0.87003\ttrain-auc:0.89992\n",
      "[481]\teval-auc:0.87007\ttrain-auc:0.89997\n",
      "[482]\teval-auc:0.87010\ttrain-auc:0.90001\n",
      "[483]\teval-auc:0.87010\ttrain-auc:0.90006\n",
      "[484]\teval-auc:0.87010\ttrain-auc:0.90009\n",
      "[485]\teval-auc:0.87022\ttrain-auc:0.90017\n",
      "[486]\teval-auc:0.87020\ttrain-auc:0.90022\n",
      "[487]\teval-auc:0.87024\ttrain-auc:0.90027\n",
      "[488]\teval-auc:0.87020\ttrain-auc:0.90032\n",
      "[489]\teval-auc:0.87017\ttrain-auc:0.90035\n",
      "[490]\teval-auc:0.87020\ttrain-auc:0.90038\n",
      "[491]\teval-auc:0.87017\ttrain-auc:0.90042\n",
      "[492]\teval-auc:0.87009\ttrain-auc:0.90046\n",
      "[493]\teval-auc:0.87009\ttrain-auc:0.90053\n",
      "[494]\teval-auc:0.87024\ttrain-auc:0.90060\n",
      "[495]\teval-auc:0.87016\ttrain-auc:0.90064\n",
      "[496]\teval-auc:0.87017\ttrain-auc:0.90066\n",
      "[497]\teval-auc:0.87020\ttrain-auc:0.90069\n",
      "[498]\teval-auc:0.87020\ttrain-auc:0.90074\n",
      "[499]\teval-auc:0.87012\ttrain-auc:0.90077\n"
     ]
    }
   ],
   "source": [
    "num_round = 500\n",
    "eval_history = dict() \n",
    "bst = xgb.train(param, dtrain, num_round, evallist, verbose_eval=True, \n",
    "                callbacks=[xgb.callback.record_evaluation(eval_history)], early_stopping_rounds=3)"
   ]
  },
  {
   "cell_type": "markdown",
   "metadata": {},
   "source": [
    "## plot training curve"
   ]
  },
  {
   "cell_type": "code",
   "execution_count": 295,
   "metadata": {},
   "outputs": [
    {
     "data": {
      "image/png": "[encoded data removed]",
      "text/plain": [
       "<Figure size 720x432 with 1 Axes>"
      ]
     },
     "metadata": {
      "needs_background": "light"
     },
     "output_type": "display_data"
    }
   ],
   "source": [
    "steps = len(eval_history[\"train\"][\"auc\"])\n",
    "fig, ax = plt.subplots(1,1, figsize=(10,6))\n",
    "ax.plot(range(steps), eval_history[\"train\"][\"auc\"], label=\"train\");\n",
    "ax.plot(range(steps), eval_history[\"eval\"][\"auc\"], label=\"eval\");\n",
    "ax.legend();\n",
    "ax.set_xlabel(\"round\");\n",
    "ax.set_ylabel(\"AUC\");\n",
    "fig.savefig(\"training_curve.png\", dpi=200)"
   ]
  },
  {
   "cell_type": "markdown",
   "metadata": {},
   "source": [
    "The evaluation metric converges to about 0.870 so it doesn't make too sense to continure training"
   ]
  },
  {
   "cell_type": "markdown",
   "metadata": {},
   "source": [
    "## make predictions for the test data set"
   ]
  },
  {
   "cell_type": "code",
   "execution_count": 303,
   "metadata": {},
   "outputs": [],
   "source": [
    "y_pred_test = bst.predict(dtest)"
   ]
  },
  {
   "cell_type": "code",
   "execution_count": 326,
   "metadata": {},
   "outputs": [
    {
     "data": {
      "text/plain": [
       "array([0.8681863 , 0.8475033 , 0.48526517, 0.67235136, 0.9780498 ,\n",
       "       0.53660303, 0.57786196, 0.9080595 , 0.9995919 , 0.9153604 ],\n",
       "      dtype=float32)"
      ]
     },
     "execution_count": 326,
     "metadata": {},
     "output_type": "execute_result"
    }
   ],
   "source": [
    "y_pred_test[0:10]"
   ]
  },
  {
   "cell_type": "markdown",
   "metadata": {},
   "source": [
    "## calculate and plot receivcer operator characteristic (ROC) curve"
   ]
  },
  {
   "cell_type": "markdown",
   "metadata": {},
   "source": [
    "```y_pred_test``` contains class probabilities instead of decisions. We need a threshold to make decisions. Since we have no information about costs of false positive or false negative errors, we use the receiver operator curve to select a threshold that is a good compromise."
   ]
  },
  {
   "cell_type": "code",
   "execution_count": 327,
   "metadata": {},
   "outputs": [],
   "source": [
    "from sklearn import metrics"
   ]
  },
  {
   "cell_type": "code",
   "execution_count": 306,
   "metadata": {},
   "outputs": [],
   "source": [
    "fpr, tpr, thresholds = metrics.roc_curve(df_y_test, y_pred_test)"
   ]
  },
  {
   "cell_type": "code",
   "execution_count": 309,
   "metadata": {},
   "outputs": [
    {
     "data": {
      "image/png": "[encoded data removed]",
      "text/plain": [
       "<Figure size 720x720 with 1 Axes>"
      ]
     },
     "metadata": {
      "needs_background": "light"
     },
     "output_type": "display_data"
    }
   ],
   "source": [
    "fig, ax = plt.subplots(1,1, figsize=(10,10))\n",
    "ax.plot(fpr, tpr);\n",
    "ax.hlines(0.8, 0, 1, linestyles=\"dashed\")\n",
    "ax.set_xlabel(\"FPR (false positive rate)\");\n",
    "ax.set_ylabel(\"TPR (true positive rate)\");\n",
    "fig.savefig(\"roc_curve.png\", dpi=200)"
   ]
  },
  {
   "cell_type": "markdown",
   "metadata": {},
   "source": [
    "## choose threshold by choosing desired true positive rate \n",
    "This is done visually in this case by choosing a TPR value of 0.8 where the ROC curve seems to start flattening quicker."
   ]
  },
  {
   "cell_type": "code",
   "execution_count": 313,
   "metadata": {},
   "outputs": [],
   "source": [
    "desired_tpr = 0.8\n",
    "# choose index of TPR array where the TPR value is closest to the desired value\n",
    "best_roc_index = np.argmin(np.abs(tpr - desired_tpr))\n",
    "threshold = thresholds[best_roc_index]"
   ]
  },
  {
   "cell_type": "code",
   "execution_count": 314,
   "metadata": {},
   "outputs": [
    {
     "data": {
      "text/plain": [
       "0.7413539"
      ]
     },
     "execution_count": 314,
     "metadata": {},
     "output_type": "execute_result"
    }
   ],
   "source": [
    "threshold"
   ]
  },
  {
   "cell_type": "markdown",
   "metadata": {},
   "source": [
    "## classify accidents in test data set using selected threshold"
   ]
  },
  {
   "cell_type": "code",
   "execution_count": 316,
   "metadata": {},
   "outputs": [],
   "source": [
    "label_pred_test = np.where(y_pred_test > threshold, 1, 0)"
   ]
  },
  {
   "cell_type": "code",
   "execution_count": 317,
   "metadata": {},
   "outputs": [],
   "source": [
    "tn, fp, fn, tp = metrics.confusion_matrix(df_y_test, label_pred_test).ravel()"
   ]
  },
  {
   "cell_type": "code",
   "execution_count": 318,
   "metadata": {},
   "outputs": [
    {
     "data": {
      "text/plain": [
       "(5359, 1532, 3821, 15285)"
      ]
     },
     "execution_count": 318,
     "metadata": {},
     "output_type": "execute_result"
    }
   ],
   "source": [
    "tn, fp, fn, tp"
   ]
  },
  {
   "cell_type": "code",
   "execution_count": 319,
   "metadata": {},
   "outputs": [
    {
     "data": {
      "text/html": [
       "<div>\n",
       "<style scoped>\n",
       "    .dataframe tbody tr th:only-of-type {\n",
       "        vertical-align: middle;\n",
       "    }\n",
       "\n",
       "    .dataframe tbody tr th {\n",
       "        vertical-align: top;\n",
       "    }\n",
       "\n",
       "    .dataframe thead th {\n",
       "        text-align: right;\n",
       "    }\n",
       "</style>\n",
       "<table border=\"1\" class=\"dataframe\">\n",
       "  <thead>\n",
       "    <tr style=\"text-align: right;\">\n",
       "      <th></th>\n",
       "      <th>0</th>\n",
       "      <th>1</th>\n",
       "    </tr>\n",
       "  </thead>\n",
       "  <tbody>\n",
       "    <tr>\n",
       "      <th>0</th>\n",
       "      <td>5359</td>\n",
       "      <td>1532</td>\n",
       "    </tr>\n",
       "    <tr>\n",
       "      <th>1</th>\n",
       "      <td>3821</td>\n",
       "      <td>15285</td>\n",
       "    </tr>\n",
       "  </tbody>\n",
       "</table>\n",
       "</div>"
      ],
      "text/plain": [
       "      0      1\n",
       "0  5359   1532\n",
       "1  3821  15285"
      ]
     },
     "execution_count": 319,
     "metadata": {},
     "output_type": "execute_result"
    }
   ],
   "source": [
    "pd.DataFrame(metrics.confusion_matrix(df_y_test, label_pred_test))"
   ]
  },
  {
   "cell_type": "code",
   "execution_count": 321,
   "metadata": {},
   "outputs": [],
   "source": [
    "precision = metrics.precision_score(df_y_test, label_pred_test)\n",
    "recall = metrics.recall_score(df_y_test, label_pred_test)\n",
    "f1_score = metrics.f1_score(df_y_test, label_pred_test)"
   ]
  },
  {
   "cell_type": "code",
   "execution_count": 325,
   "metadata": {},
   "outputs": [
    {
     "name": "stdout",
     "output_type": "stream",
     "text": [
      "Precision: 0.909, Recall: 0.8, F1-Score: 0.851\n"
     ]
    }
   ],
   "source": [
    "print(f\"Precision: {precision:.3}, Recall: {recall:.3}, F1-Score: {f1_score:.3}\")"
   ]
  },
  {
   "cell_type": "code",
   "execution_count": 315,
   "metadata": {},
   "outputs": [],
   "source": [
    "# next steps: optimize hyperparameters using hyperopt + cross validation\n",
    "# res_cv = xgb.cv(param, dtrain, 100)\n"
   ]
  }
 ],
 "metadata": {
  "hide_input": false,
  "kernelspec": {
   "display_name": "Python 3",
   "language": "python",
   "name": "python3"
  },
  "language_info": {
   "codemirror_mode": {
    "name": "ipython",
    "version": 3
   },
   "file_extension": ".py",
   "mimetype": "text/x-python",
   "name": "python",
   "nbconvert_exporter": "python",
   "pygments_lexer": "ipython3",
   "version": "3.7.6"
  }
 },
 "nbformat": 4,
 "nbformat_minor": 4
}
